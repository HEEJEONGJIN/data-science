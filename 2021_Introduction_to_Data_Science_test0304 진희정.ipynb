{
 "cells": [
  {
   "cell_type": "markdown",
   "metadata": {},
   "source": [
    "## 문제1. Hello, Python! 을 출력한다."
   ]
  },
  {
   "cell_type": "code",
   "execution_count": 1,
   "metadata": {},
   "outputs": [
    {
     "name": "stdout",
     "output_type": "stream",
     "text": [
      "Hello, Python!\n"
     ]
    }
   ],
   "source": [
    "print('Hello, Python!')"
   ]
  },
  {
   "cell_type": "markdown",
   "metadata": {},
   "source": [
    "## 문제2. 반지름 r = 10인 원의 넓이를 구하시오.\n",
    "input() 함수를 이용해 반지름 r을 입력받아 계산해서 출력할 것. (pi = 3.14)"
   ]
  },
  {
   "cell_type": "code",
   "execution_count": 3,
   "metadata": {},
   "outputs": [
    {
     "name": "stdout",
     "output_type": "stream",
     "text": [
      "5\n"
     ]
    },
    {
     "data": {
      "text/plain": [
       "78.5"
      ]
     },
     "execution_count": 3,
     "metadata": {},
     "output_type": "execute_result"
    }
   ],
   "source": [
    "r = int(input())\n",
    "pi= float(3.14)\n",
    "a = r*r*pi\n",
    "a"
   ]
  },
  {
   "cell_type": "markdown",
   "metadata": {},
   "source": [
    "## 문제3. 변수 a와 변수 b의 값을 서로 바꾸시오.\n",
    "아래 ... 부분을 채워서 결과를 낼 것.\n",
    "a = 'AAA' \n",
    "b = 'BBB'\n",
    "...\n",
    "print('a=', a, 'b=', b)"
   ]
  },
  {
   "cell_type": "code",
   "execution_count": 11,
   "metadata": {},
   "outputs": [
    {
     "name": "stdout",
     "output_type": "stream",
     "text": [
      "a= BBB b= AAA\n"
     ]
    }
   ],
   "source": [
    "a = 'AAA'\n",
    "b = 'BBB'\n",
    "\n",
    "c = \"BBB\"\n",
    "d = \"AAA\"\n",
    "\n",
    "a = c\n",
    "b = d\n",
    "\n",
    "print('a=', a,'b=', b)"
   ]
  },
  {
   "cell_type": "markdown",
   "metadata": {},
   "source": [
    "## 문제4. 리스트 생성과 조작\n",
    "문제 3-1) 'apple', 'banana', 'cat', 'dog' 로 구성된 리스트 list1를 만들고 출력하시오.\n",
    "\n",
    "문제 3-2) 위 리스트에 'elephant'를 추가한 뒤 출력하시오.\n",
    "\n",
    "문제 3-3) 리스트에 있는 원소의 갯수를 구해서 출력하시오.\n",
    "\n",
    "문제 3-4) 리스트 맨 마지막의 원소를 출력하시오."
   ]
  },
  {
   "cell_type": "code",
   "execution_count": 20,
   "metadata": {},
   "outputs": [
    {
     "data": {
      "text/plain": [
       "['apple', 'banana', 'cat', 'dog']"
      ]
     },
     "execution_count": 20,
     "metadata": {},
     "output_type": "execute_result"
    }
   ],
   "source": [
    "# 문제3-1)\n",
    "list1 = ['apple', 'banana', 'cat', 'dog']\n",
    "list1"
   ]
  },
  {
   "cell_type": "code",
   "execution_count": 23,
   "metadata": {},
   "outputs": [
    {
     "data": {
      "text/plain": [
       "['apple', 'banana', 'cat', 'dog', 'elephant']"
      ]
     },
     "execution_count": 23,
     "metadata": {},
     "output_type": "execute_result"
    }
   ],
   "source": [
    "# 문제3-2)\n",
    "list1 = ['apple', 'banana', 'cat', 'dog']\n",
    "list1.append('elephant')\n",
    "list1"
   ]
  },
  {
   "cell_type": "code",
   "execution_count": 29,
   "metadata": {},
   "outputs": [
    {
     "data": {
      "text/plain": [
       "5"
      ]
     },
     "execution_count": 29,
     "metadata": {},
     "output_type": "execute_result"
    }
   ],
   "source": [
    "# 문제3-3)\n",
    "len(list1)"
   ]
  },
  {
   "cell_type": "code",
   "execution_count": 36,
   "metadata": {},
   "outputs": [
    {
     "data": {
      "text/plain": [
       "'elephant'"
      ]
     },
     "execution_count": 36,
     "metadata": {},
     "output_type": "execute_result"
    }
   ],
   "source": [
    "# 문제3-4)\n",
    "list1[-1]"
   ]
  },
  {
   "cell_type": "markdown",
   "metadata": {},
   "source": [
    "## 문제5. while문의 활용\n",
    "factorial값 N! = 1 * 2 * 3 * ... * (N-1) * N 로 정의된다.\n",
    "N! 가 최초로 1000을 초과하게 되는 N과 N!값을 구해서 출력하시오."
   ]
  },
  {
   "cell_type": "code",
   "execution_count": 55,
   "metadata": {},
   "outputs": [
    {
     "name": "stdout",
     "output_type": "stream",
     "text": [
      "1\n",
      "1\n",
      "2\n",
      "6\n",
      "24\n",
      "120\n",
      "720\n",
      "5040\n",
      "N = 7 , N! = factorial(7)\n"
     ]
    }
   ],
   "source": [
    "def factorial(n):\n",
    "    num = 1\n",
    "    while n >= 1:\n",
    "        num = num * n\n",
    "        n = n - 1\n",
    "    return num\n",
    "\n",
    "for i in range(8):\n",
    "    a = factorial(i)\n",
    "    print(a)\n",
    "    \n",
    "print (\"N = 7\",\",\",\"N! = factorial(7)\")"
   ]
  },
  {
   "cell_type": "markdown",
   "metadata": {},
   "source": [
    "## 문제6. for 문의 활용\n",
    "1~30 까지의 숫자 중 2, 3, 5의 배수만 빼고 출력하시오."
   ]
  },
  {
   "cell_type": "code",
   "execution_count": 109,
   "metadata": {
    "scrolled": true
   },
   "outputs": [
    {
     "data": {
      "text/plain": [
       "[1, 7, 11, 13, 17, 19, 23, 29]"
      ]
     },
     "execution_count": 109,
     "metadata": {},
     "output_type": "execute_result"
    }
   ],
   "source": [
    "list = []\n",
    "for i in range(1,31):\n",
    "    list.append(i)\n",
    "\n",
    "for n in range(1, 31):\n",
    "    if n % 2 == 0 or n % 3 == 0 or n % 5 == 0:\n",
    "        list.remove(n)\n",
    "list"
   ]
  },
  {
   "cell_type": "markdown",
   "metadata": {},
   "source": [
    "## 문제7. 주민등록번호를 입력받아, 성별과 출생년도를 추출하시오.\n",
    "input() 함수를 이용해 주민등록번호를 XXXXXX-XXXXXXX 형식으로 입력받을 것. \n",
    "\n",
    "문제 7-1) 주민등록번호에서 성별정보를 추출해 변수 gender = '남성' 또는 '여성'으로 저장하고, 출력하시오.\n",
    "\n",
    "문제 7-2) 주민등록번호에서 출생년도를 계산해 변수 year 에 네자리수 값(OOOO)으로 저장하시오. (출생년도는 1901년~2020년 사이이다)"
   ]
  },
  {
   "cell_type": "code",
   "execution_count": 1,
   "metadata": {},
   "outputs": [
    {
     "name": "stdout",
     "output_type": "stream",
     "text": [
      "주민등록번호를 입력하세요 (OOOOOO-XXXXXXX):000000-2111111\n"
     ]
    },
    {
     "data": {
      "text/plain": [
       "'여성'"
      ]
     },
     "execution_count": 1,
     "metadata": {},
     "output_type": "execute_result"
    }
   ],
   "source": [
    "#문제 7-1)\n",
    "id_num = str(input(\"주민등록번호를 입력하세요 (OOOOOO-XXXXXXX):\"))\n",
    "\n",
    "class person ():\n",
    "    def __init__(self, gender):\n",
    "        self.gender = gender\n",
    "        \n",
    "\n",
    "if id_num[7] == '1' or id_num[7] == '3': \n",
    "    heejeong = person('남성')\n",
    "else :\n",
    "    heejeong = person('여성')\n",
    "heejeong.gender"
   ]
  },
  {
   "cell_type": "code",
   "execution_count": 157,
   "metadata": {},
   "outputs": [
    {
     "name": "stdout",
     "output_type": "stream",
     "text": [
      "주민등록번호를 입력하세요 (OOOOOO-XXXXXXX):101234-3123547\n"
     ]
    },
    {
     "data": {
      "text/plain": [
       "'2010'"
      ]
     },
     "execution_count": 157,
     "metadata": {},
     "output_type": "execute_result"
    }
   ],
   "source": [
    "#문제 7-2)\n",
    "id_num = str(input(\"주민등록번호를 입력하세요 (OOOOOO-XXXXXXX):\"))\n",
    "\n",
    "class person ():\n",
    "    def __init__(self, year):\n",
    "        self.year = year\n",
    "\n",
    "if id_num[7] == '1' or id_num[7] == '2' :\n",
    "    heejeong.year = str(19)+id_num[:2]\n",
    "else : \n",
    "    heejeong.year = str(20)+id_num[:2]\n",
    "\n",
    "heejeong.year"
   ]
  },
  {
   "cell_type": "markdown",
   "metadata": {},
   "source": [
    "## 문제8. 2~1000 사이의 소수 찾기\n",
    "2~1000 범위에서 소수의 목록(또는 갯수)을 구하시오."
   ]
  },
  {
   "cell_type": "code",
   "execution_count": 162,
   "metadata": {},
   "outputs": [
    {
     "name": "stdout",
     "output_type": "stream",
     "text": [
      "2\n",
      "3\n",
      "5\n",
      "7\n",
      "11\n",
      "13\n",
      "17\n",
      "19\n",
      "23\n",
      "29\n",
      "31\n",
      "37\n",
      "41\n",
      "43\n",
      "47\n",
      "53\n",
      "59\n",
      "61\n",
      "67\n",
      "71\n",
      "73\n",
      "79\n",
      "83\n",
      "89\n",
      "97\n",
      "101\n",
      "103\n",
      "107\n",
      "109\n",
      "113\n",
      "127\n",
      "131\n",
      "137\n",
      "139\n",
      "149\n",
      "151\n",
      "157\n",
      "163\n",
      "167\n",
      "173\n",
      "179\n",
      "181\n",
      "191\n",
      "193\n",
      "197\n",
      "199\n",
      "211\n",
      "223\n",
      "227\n",
      "229\n",
      "233\n",
      "239\n",
      "241\n",
      "251\n",
      "257\n",
      "263\n",
      "269\n",
      "271\n",
      "277\n",
      "281\n",
      "283\n",
      "293\n",
      "307\n",
      "311\n",
      "313\n",
      "317\n",
      "331\n",
      "337\n",
      "347\n",
      "349\n",
      "353\n",
      "359\n",
      "367\n",
      "373\n",
      "379\n",
      "383\n",
      "389\n",
      "397\n",
      "401\n",
      "409\n",
      "419\n",
      "421\n",
      "431\n",
      "433\n",
      "439\n",
      "443\n",
      "449\n",
      "457\n",
      "461\n",
      "463\n",
      "467\n",
      "479\n",
      "487\n",
      "491\n",
      "499\n",
      "503\n",
      "509\n",
      "521\n",
      "523\n",
      "541\n",
      "547\n",
      "557\n",
      "563\n",
      "569\n",
      "571\n",
      "577\n",
      "587\n",
      "593\n",
      "599\n",
      "601\n",
      "607\n",
      "613\n",
      "617\n",
      "619\n",
      "631\n",
      "641\n",
      "643\n",
      "647\n",
      "653\n",
      "659\n",
      "661\n",
      "673\n",
      "677\n",
      "683\n",
      "691\n",
      "701\n",
      "709\n",
      "719\n",
      "727\n",
      "733\n",
      "739\n",
      "743\n",
      "751\n",
      "757\n",
      "761\n",
      "769\n",
      "773\n",
      "787\n",
      "797\n",
      "809\n",
      "811\n",
      "821\n",
      "823\n",
      "827\n",
      "829\n",
      "839\n",
      "853\n",
      "857\n",
      "859\n",
      "863\n",
      "877\n",
      "881\n",
      "883\n",
      "887\n",
      "907\n",
      "911\n",
      "919\n",
      "929\n",
      "937\n",
      "941\n",
      "947\n",
      "953\n",
      "967\n",
      "971\n",
      "977\n",
      "983\n",
      "991\n",
      "997\n"
     ]
    }
   ],
   "source": [
    "for i in range(2,1001):\n",
    "    a = True\n",
    "    for j in range(2,i):\n",
    "        if i%j==0:\n",
    "            a = False\n",
    "            break\n",
    "    if a : \n",
    "        print(i)"
   ]
  },
  {
   "cell_type": "code",
   "execution_count": null,
   "metadata": {},
   "outputs": [],
   "source": []
  }
 ],
 "metadata": {
  "kernelspec": {
   "display_name": "Python 3",
   "language": "python",
   "name": "python3"
  },
  "language_info": {
   "codemirror_mode": {
    "name": "ipython",
    "version": 3
   },
   "file_extension": ".py",
   "mimetype": "text/x-python",
   "name": "python",
   "nbconvert_exporter": "python",
   "pygments_lexer": "ipython3",
   "version": "3.8.3"
  }
 },
 "nbformat": 4,
 "nbformat_minor": 4
}
