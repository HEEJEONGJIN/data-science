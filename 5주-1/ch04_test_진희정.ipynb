{
 "cells": [
  {
   "cell_type": "markdown",
   "metadata": {
    "nbpresent": {
     "id": "af88da20-0f51-483e-bd72-afc896a9da05"
    }
   },
   "source": [
    "# 4주차 실습문제: 조건에 따른 열 추가 & 데이터 시각화"
   ]
  },
  {
   "cell_type": "markdown",
   "metadata": {
    "collapsed": true
   },
   "source": [
    "***"
   ]
  },
  {
   "cell_type": "markdown",
   "metadata": {},
   "source": [
    "## 1차 제출(~수업시간 종료)"
   ]
  },
  {
   "cell_type": "code",
   "execution_count": 2,
   "metadata": {
    "scrolled": true
   },
   "outputs": [
    {
     "data": {
      "text/plain": [
       "'%.3f'"
      ]
     },
     "execution_count": 2,
     "metadata": {},
     "output_type": "execute_result"
    }
   ],
   "source": [
    "# 아래와 같이 필요한 라이브러리를 임포트 합니다.\n",
    "import numpy as np\n",
    "import scipy as sp\n",
    "import pandas as pd\n",
    "from pandas import Series, DataFrame\n",
    "\n",
    "# 시각화 라이브러리\n",
    "import matplotlib.pyplot as plt\n",
    "import seaborn as sns\n",
    "sns.set()\n",
    "%matplotlib inline\n",
    "\n",
    "# 한글 폰트 설정 (맑은고딕)\n",
    "plt.rc('font', family='Malgun Gothic') # For Windows\n",
    "\n",
    "# 소수점 3자리 숫자까지 표시\n",
    "%precision 3"
   ]
  },
  {
   "cell_type": "code",
   "execution_count": 4,
   "metadata": {},
   "outputs": [],
   "source": [
    "data = pd.read_csv('health2018.csv')"
   ]
  },
  {
   "cell_type": "code",
   "execution_count": 5,
   "metadata": {},
   "outputs": [
    {
     "data": {
      "text/html": [
       "<div>\n",
       "<style scoped>\n",
       "    .dataframe tbody tr th:only-of-type {\n",
       "        vertical-align: middle;\n",
       "    }\n",
       "\n",
       "    .dataframe tbody tr th {\n",
       "        vertical-align: top;\n",
       "    }\n",
       "\n",
       "    .dataframe thead th {\n",
       "        text-align: right;\n",
       "    }\n",
       "</style>\n",
       "<table border=\"1\" class=\"dataframe\">\n",
       "  <thead>\n",
       "    <tr style=\"text-align: right;\">\n",
       "      <th></th>\n",
       "      <th>ID</th>\n",
       "      <th>sex</th>\n",
       "      <th>age</th>\n",
       "      <th>height</th>\n",
       "      <th>weight</th>\n",
       "      <th>waist</th>\n",
       "      <th>BMI</th>\n",
       "      <th>Blood_glucose</th>\n",
       "    </tr>\n",
       "  </thead>\n",
       "  <tbody>\n",
       "    <tr>\n",
       "      <th>0</th>\n",
       "      <td>A901020501</td>\n",
       "      <td>M</td>\n",
       "      <td>80</td>\n",
       "      <td>162.4</td>\n",
       "      <td>56.0</td>\n",
       "      <td>82.2</td>\n",
       "      <td>21.233226</td>\n",
       "      <td>103</td>\n",
       "    </tr>\n",
       "    <tr>\n",
       "      <th>1</th>\n",
       "      <td>A901021301</td>\n",
       "      <td>M</td>\n",
       "      <td>78</td>\n",
       "      <td>167.7</td>\n",
       "      <td>76.4</td>\n",
       "      <td>98.3</td>\n",
       "      <td>27.166096</td>\n",
       "      <td>127</td>\n",
       "    </tr>\n",
       "    <tr>\n",
       "      <th>2</th>\n",
       "      <td>A901021302</td>\n",
       "      <td>F</td>\n",
       "      <td>75</td>\n",
       "      <td>157.7</td>\n",
       "      <td>53.2</td>\n",
       "      <td>80.7</td>\n",
       "      <td>21.391845</td>\n",
       "      <td>134</td>\n",
       "    </tr>\n",
       "    <tr>\n",
       "      <th>3</th>\n",
       "      <td>A901022601</td>\n",
       "      <td>F</td>\n",
       "      <td>43</td>\n",
       "      <td>151.0</td>\n",
       "      <td>53.5</td>\n",
       "      <td>79.7</td>\n",
       "      <td>23.463883</td>\n",
       "      <td>99</td>\n",
       "    </tr>\n",
       "    <tr>\n",
       "      <th>4</th>\n",
       "      <td>A901023303</td>\n",
       "      <td>F</td>\n",
       "      <td>80</td>\n",
       "      <td>146.1</td>\n",
       "      <td>57.6</td>\n",
       "      <td>93.0</td>\n",
       "      <td>26.984977</td>\n",
       "      <td>111</td>\n",
       "    </tr>\n",
       "  </tbody>\n",
       "</table>\n",
       "</div>"
      ],
      "text/plain": [
       "           ID sex  age  height  weight  waist        BMI  Blood_glucose\n",
       "0  A901020501   M   80   162.4    56.0   82.2  21.233226            103\n",
       "1  A901021301   M   78   167.7    76.4   98.3  27.166096            127\n",
       "2  A901021302   F   75   157.7    53.2   80.7  21.391845            134\n",
       "3  A901022601   F   43   151.0    53.5   79.7  23.463883             99\n",
       "4  A901023303   F   80   146.1    57.6   93.0  26.984977            111"
      ]
     },
     "execution_count": 5,
     "metadata": {},
     "output_type": "execute_result"
    }
   ],
   "source": [
    "data1 = pd.read_csv('health2018.csv')\n",
    "data1.head(5)"
   ]
  },
  {
   "cell_type": "markdown",
   "metadata": {},
   "source": [
    "## 1. 정상 vs. 비만 간의 통계량 비교 및 시각화\n",
    "### 1-1) state 열을 추가해서 BMI >= 25인 사람은 'Obese', BMI < 25인 사람은 'Normal'으로 기록하시오."
   ]
  },
  {
   "cell_type": "code",
   "execution_count": 6,
   "metadata": {
    "scrolled": true
   },
   "outputs": [
    {
     "data": {
      "text/html": [
       "<div>\n",
       "<style scoped>\n",
       "    .dataframe tbody tr th:only-of-type {\n",
       "        vertical-align: middle;\n",
       "    }\n",
       "\n",
       "    .dataframe tbody tr th {\n",
       "        vertical-align: top;\n",
       "    }\n",
       "\n",
       "    .dataframe thead th {\n",
       "        text-align: right;\n",
       "    }\n",
       "</style>\n",
       "<table border=\"1\" class=\"dataframe\">\n",
       "  <thead>\n",
       "    <tr style=\"text-align: right;\">\n",
       "      <th></th>\n",
       "      <th>ID</th>\n",
       "      <th>sex</th>\n",
       "      <th>age</th>\n",
       "      <th>height</th>\n",
       "      <th>weight</th>\n",
       "      <th>waist</th>\n",
       "      <th>BMI</th>\n",
       "      <th>Blood_glucose</th>\n",
       "      <th>state</th>\n",
       "    </tr>\n",
       "  </thead>\n",
       "  <tbody>\n",
       "    <tr>\n",
       "      <th>0</th>\n",
       "      <td>A901020501</td>\n",
       "      <td>M</td>\n",
       "      <td>80</td>\n",
       "      <td>162.4</td>\n",
       "      <td>56.0</td>\n",
       "      <td>82.2</td>\n",
       "      <td>21.233226</td>\n",
       "      <td>103</td>\n",
       "      <td>Normal</td>\n",
       "    </tr>\n",
       "    <tr>\n",
       "      <th>1</th>\n",
       "      <td>A901021301</td>\n",
       "      <td>M</td>\n",
       "      <td>78</td>\n",
       "      <td>167.7</td>\n",
       "      <td>76.4</td>\n",
       "      <td>98.3</td>\n",
       "      <td>27.166096</td>\n",
       "      <td>127</td>\n",
       "      <td>Obese</td>\n",
       "    </tr>\n",
       "    <tr>\n",
       "      <th>2</th>\n",
       "      <td>A901021302</td>\n",
       "      <td>F</td>\n",
       "      <td>75</td>\n",
       "      <td>157.7</td>\n",
       "      <td>53.2</td>\n",
       "      <td>80.7</td>\n",
       "      <td>21.391845</td>\n",
       "      <td>134</td>\n",
       "      <td>Normal</td>\n",
       "    </tr>\n",
       "    <tr>\n",
       "      <th>3</th>\n",
       "      <td>A901022601</td>\n",
       "      <td>F</td>\n",
       "      <td>43</td>\n",
       "      <td>151.0</td>\n",
       "      <td>53.5</td>\n",
       "      <td>79.7</td>\n",
       "      <td>23.463883</td>\n",
       "      <td>99</td>\n",
       "      <td>Normal</td>\n",
       "    </tr>\n",
       "    <tr>\n",
       "      <th>4</th>\n",
       "      <td>A901023303</td>\n",
       "      <td>F</td>\n",
       "      <td>80</td>\n",
       "      <td>146.1</td>\n",
       "      <td>57.6</td>\n",
       "      <td>93.0</td>\n",
       "      <td>26.984977</td>\n",
       "      <td>111</td>\n",
       "      <td>Obese</td>\n",
       "    </tr>\n",
       "    <tr>\n",
       "      <th>...</th>\n",
       "      <td>...</td>\n",
       "      <td>...</td>\n",
       "      <td>...</td>\n",
       "      <td>...</td>\n",
       "      <td>...</td>\n",
       "      <td>...</td>\n",
       "      <td>...</td>\n",
       "      <td>...</td>\n",
       "      <td>...</td>\n",
       "    </tr>\n",
       "    <tr>\n",
       "      <th>5963</th>\n",
       "      <td>R904028502</td>\n",
       "      <td>F</td>\n",
       "      <td>35</td>\n",
       "      <td>159.8</td>\n",
       "      <td>55.6</td>\n",
       "      <td>70.1</td>\n",
       "      <td>21.773149</td>\n",
       "      <td>90</td>\n",
       "      <td>Normal</td>\n",
       "    </tr>\n",
       "    <tr>\n",
       "      <th>5964</th>\n",
       "      <td>R904028503</td>\n",
       "      <td>F</td>\n",
       "      <td>66</td>\n",
       "      <td>156.9</td>\n",
       "      <td>63.9</td>\n",
       "      <td>87.3</td>\n",
       "      <td>25.957028</td>\n",
       "      <td>93</td>\n",
       "      <td>Obese</td>\n",
       "    </tr>\n",
       "    <tr>\n",
       "      <th>5965</th>\n",
       "      <td>R904028902</td>\n",
       "      <td>F</td>\n",
       "      <td>73</td>\n",
       "      <td>145.2</td>\n",
       "      <td>51.8</td>\n",
       "      <td>77.2</td>\n",
       "      <td>24.569512</td>\n",
       "      <td>99</td>\n",
       "      <td>Normal</td>\n",
       "    </tr>\n",
       "    <tr>\n",
       "      <th>5966</th>\n",
       "      <td>R904029201</td>\n",
       "      <td>M</td>\n",
       "      <td>43</td>\n",
       "      <td>176.8</td>\n",
       "      <td>84.1</td>\n",
       "      <td>99.2</td>\n",
       "      <td>26.904906</td>\n",
       "      <td>108</td>\n",
       "      <td>Obese</td>\n",
       "    </tr>\n",
       "    <tr>\n",
       "      <th>5967</th>\n",
       "      <td>R904029202</td>\n",
       "      <td>F</td>\n",
       "      <td>39</td>\n",
       "      <td>163.1</td>\n",
       "      <td>59.5</td>\n",
       "      <td>81.2</td>\n",
       "      <td>22.367067</td>\n",
       "      <td>94</td>\n",
       "      <td>Normal</td>\n",
       "    </tr>\n",
       "  </tbody>\n",
       "</table>\n",
       "<p>5968 rows × 9 columns</p>\n",
       "</div>"
      ],
      "text/plain": [
       "              ID sex  age  height  weight  waist        BMI  Blood_glucose  \\\n",
       "0     A901020501   M   80   162.4    56.0   82.2  21.233226            103   \n",
       "1     A901021301   M   78   167.7    76.4   98.3  27.166096            127   \n",
       "2     A901021302   F   75   157.7    53.2   80.7  21.391845            134   \n",
       "3     A901022601   F   43   151.0    53.5   79.7  23.463883             99   \n",
       "4     A901023303   F   80   146.1    57.6   93.0  26.984977            111   \n",
       "...          ...  ..  ...     ...     ...    ...        ...            ...   \n",
       "5963  R904028502   F   35   159.8    55.6   70.1  21.773149             90   \n",
       "5964  R904028503   F   66   156.9    63.9   87.3  25.957028             93   \n",
       "5965  R904028902   F   73   145.2    51.8   77.2  24.569512             99   \n",
       "5966  R904029201   M   43   176.8    84.1   99.2  26.904906            108   \n",
       "5967  R904029202   F   39   163.1    59.5   81.2  22.367067             94   \n",
       "\n",
       "       state  \n",
       "0     Normal  \n",
       "1      Obese  \n",
       "2     Normal  \n",
       "3     Normal  \n",
       "4      Obese  \n",
       "...      ...  \n",
       "5963  Normal  \n",
       "5964   Obese  \n",
       "5965  Normal  \n",
       "5966   Obese  \n",
       "5967  Normal  \n",
       "\n",
       "[5968 rows x 9 columns]"
      ]
     },
     "execution_count": 6,
     "metadata": {},
     "output_type": "execute_result"
    }
   ],
   "source": [
    "data['state'] = ['Obese' if b >= 25 else 'Normal' for b in data['BMI']] \n",
    "#데이터 'bmi' 를 b에 넣는 루프를 돌리고, if문 실행\n",
    "data"
   ]
  },
  {
   "cell_type": "markdown",
   "metadata": {},
   "source": [
    "### 1-2) 정상 vs. 비만인에서 혈당값(Blood_glucose)의 분포 차이를, boxplot과 violinplot로 그려 비교하시오."
   ]
  },
  {
   "cell_type": "code",
   "execution_count": 8,
   "metadata": {},
   "outputs": [
    {
     "data": {
      "text/plain": [
       "<matplotlib.axes._subplots.AxesSubplot at 0x1f2acf83100>"
      ]
     },
     "execution_count": 8,
     "metadata": {},
     "output_type": "execute_result"
    },
    {
     "data": {
      "image/png": "[encoded data removed]",
      "text/plain": [
       "<Figure size 432x288 with 1 Axes>"
      ]
     },
     "metadata": {
      "needs_background": "light"
     },
     "output_type": "display_data"
    }
   ],
   "source": [
    "sns.boxplot(x = \"state\", y  = \"Blood_glucose\", data = data)"
   ]
  },
  {
   "cell_type": "code",
   "execution_count": 5,
   "metadata": {},
   "outputs": [
    {
     "data": {
      "text/plain": [
       "<matplotlib.axes._subplots.AxesSubplot at 0x253a0ddbf40>"
      ]
     },
     "execution_count": 5,
     "metadata": {},
     "output_type": "execute_result"
    },
    {
     "data": {
      "image/png": "[encoded data removed]",
      "text/plain": [
       "<Figure size 432x288 with 1 Axes>"
      ]
     },
     "metadata": {
      "needs_background": "light"
     },
     "output_type": "display_data"
    }
   ],
   "source": [
    "sns.violinplot(x = \"state\", y  = \"Blood_glucose\", data = data)"
   ]
  },
  {
   "cell_type": "markdown",
   "metadata": {},
   "source": [
    "### 1-3) Diabete 열을 추가해서 혈당값이 126 이상인 환자를 1로, 그렇지 않은 정상인을 0으로 기록하고, 정상 체중과 비만 체중 각각에서 당뇨병 환자의 비율을 구하시오."
   ]
  },
  {
   "cell_type": "code",
   "execution_count": 110,
   "metadata": {
    "scrolled": false
   },
   "outputs": [
    {
     "data": {
      "text/html": [
       "<div>\n",
       "<style scoped>\n",
       "    .dataframe tbody tr th:only-of-type {\n",
       "        vertical-align: middle;\n",
       "    }\n",
       "\n",
       "    .dataframe tbody tr th {\n",
       "        vertical-align: top;\n",
       "    }\n",
       "\n",
       "    .dataframe thead th {\n",
       "        text-align: right;\n",
       "    }\n",
       "</style>\n",
       "<table border=\"1\" class=\"dataframe\">\n",
       "  <thead>\n",
       "    <tr style=\"text-align: right;\">\n",
       "      <th></th>\n",
       "      <th>ID</th>\n",
       "      <th>sex</th>\n",
       "      <th>age</th>\n",
       "      <th>height</th>\n",
       "      <th>weight</th>\n",
       "      <th>waist</th>\n",
       "      <th>BMI</th>\n",
       "      <th>Blood_glucose</th>\n",
       "      <th>state</th>\n",
       "      <th>Diabete</th>\n",
       "      <th>normal</th>\n",
       "      <th>obese</th>\n",
       "      <th>age_bmi</th>\n",
       "    </tr>\n",
       "  </thead>\n",
       "  <tbody>\n",
       "    <tr>\n",
       "      <th>0</th>\n",
       "      <td>A901020501</td>\n",
       "      <td>M</td>\n",
       "      <td>80</td>\n",
       "      <td>162.4</td>\n",
       "      <td>56.0</td>\n",
       "      <td>82.2</td>\n",
       "      <td>21.233226</td>\n",
       "      <td>103</td>\n",
       "      <td>Normal</td>\n",
       "      <td>0</td>\n",
       "      <td>1</td>\n",
       "      <td>0</td>\n",
       "      <td>normal</td>\n",
       "    </tr>\n",
       "    <tr>\n",
       "      <th>1</th>\n",
       "      <td>A901021301</td>\n",
       "      <td>M</td>\n",
       "      <td>78</td>\n",
       "      <td>167.7</td>\n",
       "      <td>76.4</td>\n",
       "      <td>98.3</td>\n",
       "      <td>27.166096</td>\n",
       "      <td>127</td>\n",
       "      <td>Obese</td>\n",
       "      <td>1</td>\n",
       "      <td>0</td>\n",
       "      <td>1</td>\n",
       "      <td>비만</td>\n",
       "    </tr>\n",
       "    <tr>\n",
       "      <th>2</th>\n",
       "      <td>A901021302</td>\n",
       "      <td>F</td>\n",
       "      <td>75</td>\n",
       "      <td>157.7</td>\n",
       "      <td>53.2</td>\n",
       "      <td>80.7</td>\n",
       "      <td>21.391845</td>\n",
       "      <td>134</td>\n",
       "      <td>Normal</td>\n",
       "      <td>1</td>\n",
       "      <td>1</td>\n",
       "      <td>0</td>\n",
       "      <td>normal</td>\n",
       "    </tr>\n",
       "    <tr>\n",
       "      <th>3</th>\n",
       "      <td>A901022601</td>\n",
       "      <td>F</td>\n",
       "      <td>43</td>\n",
       "      <td>151.0</td>\n",
       "      <td>53.5</td>\n",
       "      <td>79.7</td>\n",
       "      <td>23.463883</td>\n",
       "      <td>99</td>\n",
       "      <td>Normal</td>\n",
       "      <td>0</td>\n",
       "      <td>1</td>\n",
       "      <td>0</td>\n",
       "      <td>normal</td>\n",
       "    </tr>\n",
       "    <tr>\n",
       "      <th>4</th>\n",
       "      <td>A901023303</td>\n",
       "      <td>F</td>\n",
       "      <td>80</td>\n",
       "      <td>146.1</td>\n",
       "      <td>57.6</td>\n",
       "      <td>93.0</td>\n",
       "      <td>26.984977</td>\n",
       "      <td>111</td>\n",
       "      <td>Obese</td>\n",
       "      <td>0</td>\n",
       "      <td>0</td>\n",
       "      <td>1</td>\n",
       "      <td>비만</td>\n",
       "    </tr>\n",
       "    <tr>\n",
       "      <th>...</th>\n",
       "      <td>...</td>\n",
       "      <td>...</td>\n",
       "      <td>...</td>\n",
       "      <td>...</td>\n",
       "      <td>...</td>\n",
       "      <td>...</td>\n",
       "      <td>...</td>\n",
       "      <td>...</td>\n",
       "      <td>...</td>\n",
       "      <td>...</td>\n",
       "      <td>...</td>\n",
       "      <td>...</td>\n",
       "      <td>...</td>\n",
       "    </tr>\n",
       "    <tr>\n",
       "      <th>5963</th>\n",
       "      <td>R904028502</td>\n",
       "      <td>F</td>\n",
       "      <td>35</td>\n",
       "      <td>159.8</td>\n",
       "      <td>55.6</td>\n",
       "      <td>70.1</td>\n",
       "      <td>21.773149</td>\n",
       "      <td>90</td>\n",
       "      <td>Normal</td>\n",
       "      <td>0</td>\n",
       "      <td>1</td>\n",
       "      <td>0</td>\n",
       "      <td>normal</td>\n",
       "    </tr>\n",
       "    <tr>\n",
       "      <th>5964</th>\n",
       "      <td>R904028503</td>\n",
       "      <td>F</td>\n",
       "      <td>66</td>\n",
       "      <td>156.9</td>\n",
       "      <td>63.9</td>\n",
       "      <td>87.3</td>\n",
       "      <td>25.957028</td>\n",
       "      <td>93</td>\n",
       "      <td>Obese</td>\n",
       "      <td>0</td>\n",
       "      <td>0</td>\n",
       "      <td>1</td>\n",
       "      <td>비만</td>\n",
       "    </tr>\n",
       "    <tr>\n",
       "      <th>5965</th>\n",
       "      <td>R904028902</td>\n",
       "      <td>F</td>\n",
       "      <td>73</td>\n",
       "      <td>145.2</td>\n",
       "      <td>51.8</td>\n",
       "      <td>77.2</td>\n",
       "      <td>24.569512</td>\n",
       "      <td>99</td>\n",
       "      <td>Normal</td>\n",
       "      <td>0</td>\n",
       "      <td>1</td>\n",
       "      <td>0</td>\n",
       "      <td>normal</td>\n",
       "    </tr>\n",
       "    <tr>\n",
       "      <th>5966</th>\n",
       "      <td>R904029201</td>\n",
       "      <td>M</td>\n",
       "      <td>43</td>\n",
       "      <td>176.8</td>\n",
       "      <td>84.1</td>\n",
       "      <td>99.2</td>\n",
       "      <td>26.904906</td>\n",
       "      <td>108</td>\n",
       "      <td>Obese</td>\n",
       "      <td>0</td>\n",
       "      <td>0</td>\n",
       "      <td>1</td>\n",
       "      <td>비만</td>\n",
       "    </tr>\n",
       "    <tr>\n",
       "      <th>5967</th>\n",
       "      <td>R904029202</td>\n",
       "      <td>F</td>\n",
       "      <td>39</td>\n",
       "      <td>163.1</td>\n",
       "      <td>59.5</td>\n",
       "      <td>81.2</td>\n",
       "      <td>22.367067</td>\n",
       "      <td>94</td>\n",
       "      <td>Normal</td>\n",
       "      <td>0</td>\n",
       "      <td>1</td>\n",
       "      <td>0</td>\n",
       "      <td>normal</td>\n",
       "    </tr>\n",
       "  </tbody>\n",
       "</table>\n",
       "<p>5968 rows × 13 columns</p>\n",
       "</div>"
      ],
      "text/plain": [
       "              ID sex  age  height  weight  waist        BMI  Blood_glucose  \\\n",
       "0     A901020501   M   80   162.4    56.0   82.2  21.233226            103   \n",
       "1     A901021301   M   78   167.7    76.4   98.3  27.166096            127   \n",
       "2     A901021302   F   75   157.7    53.2   80.7  21.391845            134   \n",
       "3     A901022601   F   43   151.0    53.5   79.7  23.463883             99   \n",
       "4     A901023303   F   80   146.1    57.6   93.0  26.984977            111   \n",
       "...          ...  ..  ...     ...     ...    ...        ...            ...   \n",
       "5963  R904028502   F   35   159.8    55.6   70.1  21.773149             90   \n",
       "5964  R904028503   F   66   156.9    63.9   87.3  25.957028             93   \n",
       "5965  R904028902   F   73   145.2    51.8   77.2  24.569512             99   \n",
       "5966  R904029201   M   43   176.8    84.1   99.2  26.904906            108   \n",
       "5967  R904029202   F   39   163.1    59.5   81.2  22.367067             94   \n",
       "\n",
       "       state Diabete  normal  obese age_bmi  \n",
       "0     Normal       0       1      0  normal  \n",
       "1      Obese       1       0      1      비만  \n",
       "2     Normal       1       1      0  normal  \n",
       "3     Normal       0       1      0  normal  \n",
       "4      Obese       0       0      1      비만  \n",
       "...      ...     ...     ...    ...     ...  \n",
       "5963  Normal       0       1      0  normal  \n",
       "5964   Obese       0       0      1      비만  \n",
       "5965  Normal       0       1      0  normal  \n",
       "5966   Obese       0       0      1      비만  \n",
       "5967  Normal       0       1      0  normal  \n",
       "\n",
       "[5968 rows x 13 columns]"
      ]
     },
     "execution_count": 110,
     "metadata": {},
     "output_type": "execute_result"
    }
   ],
   "source": [
    "data['Diabete'] = [1 if b>=126 else '0' for b in data['Blood_glucose']]\n",
    "data"
   ]
  },
  {
   "cell_type": "code",
   "execution_count": 111,
   "metadata": {},
   "outputs": [],
   "source": [
    "data['normal'] = np.where(data['state'] == 'Normal', 1, 0)\n",
    "data['obese'] = np.where(data['state'] == 'Obese', 1,0)\n",
    "a = data['normal'].sum()\n",
    "b = data['obese'].sum()"
   ]
  },
  {
   "cell_type": "code",
   "execution_count": 112,
   "metadata": {},
   "outputs": [
    {
     "name": "stdout",
     "output_type": "stream",
     "text": [
      "0.0633658286300667 0.13091787439613525\n"
     ]
    }
   ],
   "source": [
    "normal_diabete = len(data[(data.Diabete == 1) & (data.state ==  'Normal')])/a\n",
    "obese_diabete = len(data[(data.Diabete == 1) & (data.state ==  'Obese')])/b\n",
    "print(normal_diabete, obese_diabete)"
   ]
  },
  {
   "cell_type": "code",
   "execution_count": 113,
   "metadata": {},
   "outputs": [
    {
     "data": {
      "text/plain": [
       "0.063"
      ]
     },
     "execution_count": 113,
     "metadata": {},
     "output_type": "execute_result"
    }
   ],
   "source": [
    "data['Diabete']=np.where(data['Blood_glucose'] >= 126,1,0)\n",
    "data[data.state == 'Normal']['Diabete']\n",
    "data[data.state == 'Normal']['Diabete'].mean()"
   ]
  },
  {
   "cell_type": "markdown",
   "metadata": {},
   "source": [
    "## 2. 연령별 비만 유병율 시각화\n",
    "### 2-1) 20대, 30대, 40대, 50대, 60대, 70대로 그룹을 나누고, 각 연령별 BMI의 분포를 violinplot으로 비교하시오.\n",
    "x축 레이블로 20대, 30대, 40대, 50대, 60대, 70대가 명시되도록 할 것. (힌트: violinplot에 order=[...] 옵션으로 순서 지정)"
   ]
  },
  {
   "cell_type": "code",
   "execution_count": 7,
   "metadata": {
    "scrolled": true
   },
   "outputs": [
    {
     "data": {
      "text/html": [
       "<div>\n",
       "<style scoped>\n",
       "    .dataframe tbody tr th:only-of-type {\n",
       "        vertical-align: middle;\n",
       "    }\n",
       "\n",
       "    .dataframe tbody tr th {\n",
       "        vertical-align: top;\n",
       "    }\n",
       "\n",
       "    .dataframe thead th {\n",
       "        text-align: right;\n",
       "    }\n",
       "</style>\n",
       "<table border=\"1\" class=\"dataframe\">\n",
       "  <thead>\n",
       "    <tr style=\"text-align: right;\">\n",
       "      <th></th>\n",
       "      <th>ID</th>\n",
       "      <th>sex</th>\n",
       "      <th>age</th>\n",
       "      <th>height</th>\n",
       "      <th>weight</th>\n",
       "      <th>waist</th>\n",
       "      <th>BMI</th>\n",
       "      <th>Blood_glucose</th>\n",
       "      <th>age_bmi</th>\n",
       "      <th>age_group</th>\n",
       "    </tr>\n",
       "  </thead>\n",
       "  <tbody>\n",
       "    <tr>\n",
       "      <th>0</th>\n",
       "      <td>A901020501</td>\n",
       "      <td>M</td>\n",
       "      <td>80</td>\n",
       "      <td>162.4</td>\n",
       "      <td>56.0</td>\n",
       "      <td>82.2</td>\n",
       "      <td>21.233226</td>\n",
       "      <td>103</td>\n",
       "      <td>정상</td>\n",
       "      <td>70대</td>\n",
       "    </tr>\n",
       "    <tr>\n",
       "      <th>1</th>\n",
       "      <td>A901021301</td>\n",
       "      <td>M</td>\n",
       "      <td>78</td>\n",
       "      <td>167.7</td>\n",
       "      <td>76.4</td>\n",
       "      <td>98.3</td>\n",
       "      <td>27.166096</td>\n",
       "      <td>127</td>\n",
       "      <td>비만</td>\n",
       "      <td>70대</td>\n",
       "    </tr>\n",
       "    <tr>\n",
       "      <th>2</th>\n",
       "      <td>A901021302</td>\n",
       "      <td>F</td>\n",
       "      <td>75</td>\n",
       "      <td>157.7</td>\n",
       "      <td>53.2</td>\n",
       "      <td>80.7</td>\n",
       "      <td>21.391845</td>\n",
       "      <td>134</td>\n",
       "      <td>정상</td>\n",
       "      <td>70대</td>\n",
       "    </tr>\n",
       "    <tr>\n",
       "      <th>3</th>\n",
       "      <td>A901022601</td>\n",
       "      <td>F</td>\n",
       "      <td>43</td>\n",
       "      <td>151.0</td>\n",
       "      <td>53.5</td>\n",
       "      <td>79.7</td>\n",
       "      <td>23.463883</td>\n",
       "      <td>99</td>\n",
       "      <td>정상</td>\n",
       "      <td>40대</td>\n",
       "    </tr>\n",
       "    <tr>\n",
       "      <th>4</th>\n",
       "      <td>A901023303</td>\n",
       "      <td>F</td>\n",
       "      <td>80</td>\n",
       "      <td>146.1</td>\n",
       "      <td>57.6</td>\n",
       "      <td>93.0</td>\n",
       "      <td>26.984977</td>\n",
       "      <td>111</td>\n",
       "      <td>비만</td>\n",
       "      <td>70대</td>\n",
       "    </tr>\n",
       "    <tr>\n",
       "      <th>...</th>\n",
       "      <td>...</td>\n",
       "      <td>...</td>\n",
       "      <td>...</td>\n",
       "      <td>...</td>\n",
       "      <td>...</td>\n",
       "      <td>...</td>\n",
       "      <td>...</td>\n",
       "      <td>...</td>\n",
       "      <td>...</td>\n",
       "      <td>...</td>\n",
       "    </tr>\n",
       "    <tr>\n",
       "      <th>5963</th>\n",
       "      <td>R904028502</td>\n",
       "      <td>F</td>\n",
       "      <td>35</td>\n",
       "      <td>159.8</td>\n",
       "      <td>55.6</td>\n",
       "      <td>70.1</td>\n",
       "      <td>21.773149</td>\n",
       "      <td>90</td>\n",
       "      <td>정상</td>\n",
       "      <td>30대</td>\n",
       "    </tr>\n",
       "    <tr>\n",
       "      <th>5964</th>\n",
       "      <td>R904028503</td>\n",
       "      <td>F</td>\n",
       "      <td>66</td>\n",
       "      <td>156.9</td>\n",
       "      <td>63.9</td>\n",
       "      <td>87.3</td>\n",
       "      <td>25.957028</td>\n",
       "      <td>93</td>\n",
       "      <td>비만</td>\n",
       "      <td>60대</td>\n",
       "    </tr>\n",
       "    <tr>\n",
       "      <th>5965</th>\n",
       "      <td>R904028902</td>\n",
       "      <td>F</td>\n",
       "      <td>73</td>\n",
       "      <td>145.2</td>\n",
       "      <td>51.8</td>\n",
       "      <td>77.2</td>\n",
       "      <td>24.569512</td>\n",
       "      <td>99</td>\n",
       "      <td>정상</td>\n",
       "      <td>70대</td>\n",
       "    </tr>\n",
       "    <tr>\n",
       "      <th>5966</th>\n",
       "      <td>R904029201</td>\n",
       "      <td>M</td>\n",
       "      <td>43</td>\n",
       "      <td>176.8</td>\n",
       "      <td>84.1</td>\n",
       "      <td>99.2</td>\n",
       "      <td>26.904906</td>\n",
       "      <td>108</td>\n",
       "      <td>비만</td>\n",
       "      <td>40대</td>\n",
       "    </tr>\n",
       "    <tr>\n",
       "      <th>5967</th>\n",
       "      <td>R904029202</td>\n",
       "      <td>F</td>\n",
       "      <td>39</td>\n",
       "      <td>163.1</td>\n",
       "      <td>59.5</td>\n",
       "      <td>81.2</td>\n",
       "      <td>22.367067</td>\n",
       "      <td>94</td>\n",
       "      <td>정상</td>\n",
       "      <td>30대</td>\n",
       "    </tr>\n",
       "  </tbody>\n",
       "</table>\n",
       "<p>5968 rows × 10 columns</p>\n",
       "</div>"
      ],
      "text/plain": [
       "              ID sex  age  height  weight  waist        BMI  Blood_glucose  \\\n",
       "0     A901020501   M   80   162.4    56.0   82.2  21.233226            103   \n",
       "1     A901021301   M   78   167.7    76.4   98.3  27.166096            127   \n",
       "2     A901021302   F   75   157.7    53.2   80.7  21.391845            134   \n",
       "3     A901022601   F   43   151.0    53.5   79.7  23.463883             99   \n",
       "4     A901023303   F   80   146.1    57.6   93.0  26.984977            111   \n",
       "...          ...  ..  ...     ...     ...    ...        ...            ...   \n",
       "5963  R904028502   F   35   159.8    55.6   70.1  21.773149             90   \n",
       "5964  R904028503   F   66   156.9    63.9   87.3  25.957028             93   \n",
       "5965  R904028902   F   73   145.2    51.8   77.2  24.569512             99   \n",
       "5966  R904029201   M   43   176.8    84.1   99.2  26.904906            108   \n",
       "5967  R904029202   F   39   163.1    59.5   81.2  22.367067             94   \n",
       "\n",
       "     age_bmi age_group  \n",
       "0         정상       70대  \n",
       "1         비만       70대  \n",
       "2         정상       70대  \n",
       "3         정상       40대  \n",
       "4         비만       70대  \n",
       "...      ...       ...  \n",
       "5963      정상       30대  \n",
       "5964      비만       60대  \n",
       "5965      정상       70대  \n",
       "5966      비만       40대  \n",
       "5967      정상       30대  \n",
       "\n",
       "[5968 rows x 10 columns]"
      ]
     },
     "execution_count": 7,
     "metadata": {},
     "output_type": "execute_result"
    }
   ],
   "source": [
    "age_list = [(data1.age>=20) &(data1.age<30), \n",
    "            (data1.age>=30) &(data1.age<40), \n",
    "            (data1.age>=40) &(data1.age<50),\n",
    "            (data1.age>=50) &(data1.age<60),\n",
    "            (data1.age>=60) &(data1.age<70),\n",
    "            (data1.age>=70)]\n",
    "choice_list=['20대','30대','40대','50대','60대','70대']\n",
    "data1['age_group']=np.select(age_list,choice_list)\n",
    "data1"
   ]
  },
  {
   "cell_type": "code",
   "execution_count": 98,
   "metadata": {
    "scrolled": true
   },
   "outputs": [
    {
     "data": {
      "text/plain": [
       "<matplotlib.axes._subplots.AxesSubplot at 0x253a30836a0>"
      ]
     },
     "execution_count": 98,
     "metadata": {},
     "output_type": "execute_result"
    },
    {
     "data": {
      "image/png": "[encoded data removed]",
      "text/plain": [
       "<Figure size 432x288 with 1 Axes>"
      ]
     },
     "metadata": {
      "needs_background": "light"
     },
     "output_type": "display_data"
    }
   ],
   "source": [
    "sns.violinplot(x = 'age_group', y  = \"BMI\", data = data1, order=['20대','30대','40대','50대','60대','70대'])"
   ]
  },
  {
   "cell_type": "markdown",
   "metadata": {},
   "source": [
    "## 2차 추가제출"
   ]
  },
  {
   "cell_type": "markdown",
   "metadata": {},
   "source": [
    "### 2-2) 각 연령대별로 비만(BMI 25~30), 고도비만(BMI >= 30)인 사람의 비율을 구하시오.\n",
    "obs_ratio, obs2_ratio로 각각 저장할 것."
   ]
  },
  {
   "cell_type": "code",
   "execution_count": 81,
   "metadata": {
    "scrolled": false
   },
   "outputs": [
    {
     "data": {
      "text/html": [
       "<div>\n",
       "<style scoped>\n",
       "    .dataframe tbody tr th:only-of-type {\n",
       "        vertical-align: middle;\n",
       "    }\n",
       "\n",
       "    .dataframe tbody tr th {\n",
       "        vertical-align: top;\n",
       "    }\n",
       "\n",
       "    .dataframe thead th {\n",
       "        text-align: right;\n",
       "    }\n",
       "</style>\n",
       "<table border=\"1\" class=\"dataframe\">\n",
       "  <thead>\n",
       "    <tr style=\"text-align: right;\">\n",
       "      <th></th>\n",
       "      <th>ID</th>\n",
       "      <th>sex</th>\n",
       "      <th>age</th>\n",
       "      <th>height</th>\n",
       "      <th>weight</th>\n",
       "      <th>waist</th>\n",
       "      <th>BMI</th>\n",
       "      <th>Blood_glucose</th>\n",
       "      <th>age_bmi</th>\n",
       "      <th>age_group</th>\n",
       "    </tr>\n",
       "  </thead>\n",
       "  <tbody>\n",
       "    <tr>\n",
       "      <th>0</th>\n",
       "      <td>A901020501</td>\n",
       "      <td>M</td>\n",
       "      <td>80</td>\n",
       "      <td>162.4</td>\n",
       "      <td>56.0</td>\n",
       "      <td>82.2</td>\n",
       "      <td>21.233226</td>\n",
       "      <td>103</td>\n",
       "      <td>정상</td>\n",
       "      <td>70대</td>\n",
       "    </tr>\n",
       "    <tr>\n",
       "      <th>1</th>\n",
       "      <td>A901021301</td>\n",
       "      <td>M</td>\n",
       "      <td>78</td>\n",
       "      <td>167.7</td>\n",
       "      <td>76.4</td>\n",
       "      <td>98.3</td>\n",
       "      <td>27.166096</td>\n",
       "      <td>127</td>\n",
       "      <td>비만</td>\n",
       "      <td>70대</td>\n",
       "    </tr>\n",
       "    <tr>\n",
       "      <th>2</th>\n",
       "      <td>A901021302</td>\n",
       "      <td>F</td>\n",
       "      <td>75</td>\n",
       "      <td>157.7</td>\n",
       "      <td>53.2</td>\n",
       "      <td>80.7</td>\n",
       "      <td>21.391845</td>\n",
       "      <td>134</td>\n",
       "      <td>정상</td>\n",
       "      <td>70대</td>\n",
       "    </tr>\n",
       "    <tr>\n",
       "      <th>3</th>\n",
       "      <td>A901022601</td>\n",
       "      <td>F</td>\n",
       "      <td>43</td>\n",
       "      <td>151.0</td>\n",
       "      <td>53.5</td>\n",
       "      <td>79.7</td>\n",
       "      <td>23.463883</td>\n",
       "      <td>99</td>\n",
       "      <td>정상</td>\n",
       "      <td>40대</td>\n",
       "    </tr>\n",
       "    <tr>\n",
       "      <th>4</th>\n",
       "      <td>A901023303</td>\n",
       "      <td>F</td>\n",
       "      <td>80</td>\n",
       "      <td>146.1</td>\n",
       "      <td>57.6</td>\n",
       "      <td>93.0</td>\n",
       "      <td>26.984977</td>\n",
       "      <td>111</td>\n",
       "      <td>비만</td>\n",
       "      <td>70대</td>\n",
       "    </tr>\n",
       "    <tr>\n",
       "      <th>...</th>\n",
       "      <td>...</td>\n",
       "      <td>...</td>\n",
       "      <td>...</td>\n",
       "      <td>...</td>\n",
       "      <td>...</td>\n",
       "      <td>...</td>\n",
       "      <td>...</td>\n",
       "      <td>...</td>\n",
       "      <td>...</td>\n",
       "      <td>...</td>\n",
       "    </tr>\n",
       "    <tr>\n",
       "      <th>5963</th>\n",
       "      <td>R904028502</td>\n",
       "      <td>F</td>\n",
       "      <td>35</td>\n",
       "      <td>159.8</td>\n",
       "      <td>55.6</td>\n",
       "      <td>70.1</td>\n",
       "      <td>21.773149</td>\n",
       "      <td>90</td>\n",
       "      <td>정상</td>\n",
       "      <td>30대</td>\n",
       "    </tr>\n",
       "    <tr>\n",
       "      <th>5964</th>\n",
       "      <td>R904028503</td>\n",
       "      <td>F</td>\n",
       "      <td>66</td>\n",
       "      <td>156.9</td>\n",
       "      <td>63.9</td>\n",
       "      <td>87.3</td>\n",
       "      <td>25.957028</td>\n",
       "      <td>93</td>\n",
       "      <td>비만</td>\n",
       "      <td>60대</td>\n",
       "    </tr>\n",
       "    <tr>\n",
       "      <th>5965</th>\n",
       "      <td>R904028902</td>\n",
       "      <td>F</td>\n",
       "      <td>73</td>\n",
       "      <td>145.2</td>\n",
       "      <td>51.8</td>\n",
       "      <td>77.2</td>\n",
       "      <td>24.569512</td>\n",
       "      <td>99</td>\n",
       "      <td>정상</td>\n",
       "      <td>70대</td>\n",
       "    </tr>\n",
       "    <tr>\n",
       "      <th>5966</th>\n",
       "      <td>R904029201</td>\n",
       "      <td>M</td>\n",
       "      <td>43</td>\n",
       "      <td>176.8</td>\n",
       "      <td>84.1</td>\n",
       "      <td>99.2</td>\n",
       "      <td>26.904906</td>\n",
       "      <td>108</td>\n",
       "      <td>비만</td>\n",
       "      <td>40대</td>\n",
       "    </tr>\n",
       "    <tr>\n",
       "      <th>5967</th>\n",
       "      <td>R904029202</td>\n",
       "      <td>F</td>\n",
       "      <td>39</td>\n",
       "      <td>163.1</td>\n",
       "      <td>59.5</td>\n",
       "      <td>81.2</td>\n",
       "      <td>22.367067</td>\n",
       "      <td>94</td>\n",
       "      <td>정상</td>\n",
       "      <td>30대</td>\n",
       "    </tr>\n",
       "  </tbody>\n",
       "</table>\n",
       "<p>5968 rows × 10 columns</p>\n",
       "</div>"
      ],
      "text/plain": [
       "              ID sex  age  height  weight  waist        BMI  Blood_glucose  \\\n",
       "0     A901020501   M   80   162.4    56.0   82.2  21.233226            103   \n",
       "1     A901021301   M   78   167.7    76.4   98.3  27.166096            127   \n",
       "2     A901021302   F   75   157.7    53.2   80.7  21.391845            134   \n",
       "3     A901022601   F   43   151.0    53.5   79.7  23.463883             99   \n",
       "4     A901023303   F   80   146.1    57.6   93.0  26.984977            111   \n",
       "...          ...  ..  ...     ...     ...    ...        ...            ...   \n",
       "5963  R904028502   F   35   159.8    55.6   70.1  21.773149             90   \n",
       "5964  R904028503   F   66   156.9    63.9   87.3  25.957028             93   \n",
       "5965  R904028902   F   73   145.2    51.8   77.2  24.569512             99   \n",
       "5966  R904029201   M   43   176.8    84.1   99.2  26.904906            108   \n",
       "5967  R904029202   F   39   163.1    59.5   81.2  22.367067             94   \n",
       "\n",
       "     age_bmi age_group  \n",
       "0         정상       70대  \n",
       "1         비만       70대  \n",
       "2         정상       70대  \n",
       "3         정상       40대  \n",
       "4         비만       70대  \n",
       "...      ...       ...  \n",
       "5963      정상       30대  \n",
       "5964      비만       60대  \n",
       "5965      정상       70대  \n",
       "5966      비만       40대  \n",
       "5967      정상       30대  \n",
       "\n",
       "[5968 rows x 10 columns]"
      ]
     },
     "execution_count": 81,
     "metadata": {},
     "output_type": "execute_result"
    }
   ],
   "source": [
    "##obs_ratio : 비만을 1, 고도비만을 2로 설정\n",
    "bmi_list = [(data1.BMI>=25)&(data1.BMI<30),\n",
    "           (data1.BMI>=30) ]\n",
    "choice1_list = ['비만','고도비만']\n",
    "data1['age_bmi'] = np.select(bmi_list, choice1_list,default = '정상')\n",
    "data1"
   ]
  },
  {
   "cell_type": "code",
   "execution_count": 82,
   "metadata": {},
   "outputs": [],
   "source": [
    "data1['age_bmi']=np.where(data1['age_bmi']=='비만', 1,0)"
   ]
  },
  {
   "cell_type": "code",
   "execution_count": 83,
   "metadata": {},
   "outputs": [],
   "source": [
    "a = data1[data1.age_group=='20대']\n",
    "b = data1[data1.age_group=='30대']\n",
    "c = data1[data1.age_group=='40대']\n",
    "d = data1[data1.age_group=='50대']\n",
    "e = data1[data1.age_group=='60대']\n",
    "f = data1[data1.age_group=='70대']"
   ]
  },
  {
   "cell_type": "code",
   "execution_count": 84,
   "metadata": {
    "scrolled": false
   },
   "outputs": [
    {
     "data": {
      "text/plain": [
       "[0.184, 0.276, 0.301, 0.300, 0.336, 0.334]"
      ]
     },
     "execution_count": 84,
     "metadata": {},
     "output_type": "execute_result"
    }
   ],
   "source": [
    "obs_ratio =[a['age_bmi'].mean(),\n",
    "            b['age_bmi'].mean(),\n",
    "            c['age_bmi'].mean(),\n",
    "            d['age_bmi'].mean(),\n",
    "            e['age_bmi'].mean(),\n",
    "            f['age_bmi'].mean()]\n",
    "obs_ratio"
   ]
  },
  {
   "cell_type": "code",
   "execution_count": 85,
   "metadata": {},
   "outputs": [],
   "source": [
    "#반대로 비만을 0, 고도비만을 1로 하는 설정\n",
    "bmi_list = [(data1.BMI>=25)&(data1.BMI<30),\n",
    "           (data1.BMI>=30) ]\n",
    "choice1_list = ['비만','고도비만']\n",
    "data1['age_bmi'] = np.select(bmi_list, choice1_list,default = '정상')"
   ]
  },
  {
   "cell_type": "code",
   "execution_count": 86,
   "metadata": {},
   "outputs": [],
   "source": [
    "data1['age_bmi']=np.where(data1['age_bmi']== '고도비만', 1,0)"
   ]
  },
  {
   "cell_type": "code",
   "execution_count": 88,
   "metadata": {},
   "outputs": [],
   "source": [
    "a = data1[data1.age_group=='20대']\n",
    "b = data1[data1.age_group=='30대']\n",
    "c = data1[data1.age_group=='40대']\n",
    "d = data1[data1.age_group=='50대']\n",
    "e = data1[data1.age_group=='60대']\n",
    "f = data1[data1.age_group=='70대']"
   ]
  },
  {
   "cell_type": "code",
   "execution_count": 89,
   "metadata": {
    "scrolled": true
   },
   "outputs": [
    {
     "data": {
      "text/plain": [
       "[0.069, 0.078, 0.057, 0.035, 0.044, 0.047]"
      ]
     },
     "execution_count": 89,
     "metadata": {},
     "output_type": "execute_result"
    }
   ],
   "source": [
    "obs2_ratio =[a['age_bmi'].mean(),\n",
    "            b['age_bmi'].mean(),\n",
    "            c['age_bmi'].mean(),\n",
    "            d['age_bmi'].mean(),\n",
    "            e['age_bmi'].mean(),\n",
    "            f['age_bmi'].mean()]\n",
    "obs2_ratio"
   ]
  },
  {
   "attachments": {
    "%EB%B9%84%EB%A7%8C%20%EB%B9%84%EC%9C%A8%20%EA%B7%B8%EB%9E%98%ED%94%84.png": {
     "image/png": "[encoded data removed]"
    }
   },
   "cell_type": "markdown",
   "metadata": {},
   "source": [
    "### 2-3) 연령대별 비만, 고도비만의 비율을 누적 막대그래프로 그리시오.\n",
    "고도비만(BMI >= 30)을 아래쪽에 먼저 그리고, 비만(BMI: 25~30)을 그 위에 쌓는 꼴로 그리시오. (아래 예시 참조)\n",
    "![%EB%B9%84%EB%A7%8C%20%EB%B9%84%EC%9C%A8%20%EA%B7%B8%EB%9E%98%ED%94%84.png](attachment:%EB%B9%84%EB%A7%8C%20%EB%B9%84%EC%9C%A8%20%EA%B7%B8%EB%9E%98%ED%94%84.png)"
   ]
  },
  {
   "cell_type": "code",
   "execution_count": 90,
   "metadata": {
    "scrolled": true
   },
   "outputs": [
    {
     "data": {
      "text/plain": [
       "<matplotlib.legend.Legend at 0x174fb53d7f0>"
      ]
     },
     "execution_count": 90,
     "metadata": {},
     "output_type": "execute_result"
    },
    {
     "data": {
      "image/png": "[encoded data removed]",
      "text/plain": [
       "<Figure size 720x432 with 1 Axes>"
      ]
     },
     "metadata": {
      "needs_background": "light"
     },
     "output_type": "display_data"
    }
   ],
   "source": [
    "x =['20대','30대','40대','50대','60대','70대']\n",
    "\n",
    "plt.figure(figsize = (10, 6))\n",
    "p1 = plt.bar(x, obs2_ratio, color = 'red')\n",
    "p2 = plt.bar(x, obs_ratio, bottom = obs2_ratio, color='orange')\n",
    "plt.legend((p1[0], p2[0]), ('고도비만', '비만'))"
   ]
  },
  {
   "cell_type": "markdown",
   "metadata": {},
   "source": [
    "### 2-4) (보너스 문제) 남성/여성으로 나누어서 위 2-3) 그래프를 그리고 그 차이를 비교해보시오."
   ]
  },
  {
   "cell_type": "markdown",
   "metadata": {},
   "source": [
    "### 남성 그래프"
   ]
  },
  {
   "cell_type": "code",
   "execution_count": 96,
   "metadata": {
    "scrolled": true
   },
   "outputs": [
    {
     "data": {
      "text/html": [
       "<div>\n",
       "<style scoped>\n",
       "    .dataframe tbody tr th:only-of-type {\n",
       "        vertical-align: middle;\n",
       "    }\n",
       "\n",
       "    .dataframe tbody tr th {\n",
       "        vertical-align: top;\n",
       "    }\n",
       "\n",
       "    .dataframe thead th {\n",
       "        text-align: right;\n",
       "    }\n",
       "</style>\n",
       "<table border=\"1\" class=\"dataframe\">\n",
       "  <thead>\n",
       "    <tr style=\"text-align: right;\">\n",
       "      <th></th>\n",
       "      <th>ID</th>\n",
       "      <th>sex</th>\n",
       "      <th>age</th>\n",
       "      <th>height</th>\n",
       "      <th>weight</th>\n",
       "      <th>waist</th>\n",
       "      <th>BMI</th>\n",
       "      <th>Blood_glucose</th>\n",
       "      <th>age_bmi</th>\n",
       "      <th>age_group</th>\n",
       "    </tr>\n",
       "  </thead>\n",
       "  <tbody>\n",
       "    <tr>\n",
       "      <th>0</th>\n",
       "      <td>A901020501</td>\n",
       "      <td>M</td>\n",
       "      <td>80</td>\n",
       "      <td>162.4</td>\n",
       "      <td>56.0</td>\n",
       "      <td>82.2</td>\n",
       "      <td>21.233226</td>\n",
       "      <td>103</td>\n",
       "      <td>정상</td>\n",
       "      <td>70대</td>\n",
       "    </tr>\n",
       "    <tr>\n",
       "      <th>1</th>\n",
       "      <td>A901021301</td>\n",
       "      <td>M</td>\n",
       "      <td>78</td>\n",
       "      <td>167.7</td>\n",
       "      <td>76.4</td>\n",
       "      <td>98.3</td>\n",
       "      <td>27.166096</td>\n",
       "      <td>127</td>\n",
       "      <td>비만</td>\n",
       "      <td>70대</td>\n",
       "    </tr>\n",
       "    <tr>\n",
       "      <th>2</th>\n",
       "      <td>A901021302</td>\n",
       "      <td>F</td>\n",
       "      <td>75</td>\n",
       "      <td>157.7</td>\n",
       "      <td>53.2</td>\n",
       "      <td>80.7</td>\n",
       "      <td>21.391845</td>\n",
       "      <td>134</td>\n",
       "      <td>정상</td>\n",
       "      <td>70대</td>\n",
       "    </tr>\n",
       "    <tr>\n",
       "      <th>3</th>\n",
       "      <td>A901022601</td>\n",
       "      <td>F</td>\n",
       "      <td>43</td>\n",
       "      <td>151.0</td>\n",
       "      <td>53.5</td>\n",
       "      <td>79.7</td>\n",
       "      <td>23.463883</td>\n",
       "      <td>99</td>\n",
       "      <td>정상</td>\n",
       "      <td>40대</td>\n",
       "    </tr>\n",
       "    <tr>\n",
       "      <th>4</th>\n",
       "      <td>A901023303</td>\n",
       "      <td>F</td>\n",
       "      <td>80</td>\n",
       "      <td>146.1</td>\n",
       "      <td>57.6</td>\n",
       "      <td>93.0</td>\n",
       "      <td>26.984977</td>\n",
       "      <td>111</td>\n",
       "      <td>비만</td>\n",
       "      <td>70대</td>\n",
       "    </tr>\n",
       "    <tr>\n",
       "      <th>...</th>\n",
       "      <td>...</td>\n",
       "      <td>...</td>\n",
       "      <td>...</td>\n",
       "      <td>...</td>\n",
       "      <td>...</td>\n",
       "      <td>...</td>\n",
       "      <td>...</td>\n",
       "      <td>...</td>\n",
       "      <td>...</td>\n",
       "      <td>...</td>\n",
       "    </tr>\n",
       "    <tr>\n",
       "      <th>5963</th>\n",
       "      <td>R904028502</td>\n",
       "      <td>F</td>\n",
       "      <td>35</td>\n",
       "      <td>159.8</td>\n",
       "      <td>55.6</td>\n",
       "      <td>70.1</td>\n",
       "      <td>21.773149</td>\n",
       "      <td>90</td>\n",
       "      <td>정상</td>\n",
       "      <td>30대</td>\n",
       "    </tr>\n",
       "    <tr>\n",
       "      <th>5964</th>\n",
       "      <td>R904028503</td>\n",
       "      <td>F</td>\n",
       "      <td>66</td>\n",
       "      <td>156.9</td>\n",
       "      <td>63.9</td>\n",
       "      <td>87.3</td>\n",
       "      <td>25.957028</td>\n",
       "      <td>93</td>\n",
       "      <td>비만</td>\n",
       "      <td>60대</td>\n",
       "    </tr>\n",
       "    <tr>\n",
       "      <th>5965</th>\n",
       "      <td>R904028902</td>\n",
       "      <td>F</td>\n",
       "      <td>73</td>\n",
       "      <td>145.2</td>\n",
       "      <td>51.8</td>\n",
       "      <td>77.2</td>\n",
       "      <td>24.569512</td>\n",
       "      <td>99</td>\n",
       "      <td>정상</td>\n",
       "      <td>70대</td>\n",
       "    </tr>\n",
       "    <tr>\n",
       "      <th>5966</th>\n",
       "      <td>R904029201</td>\n",
       "      <td>M</td>\n",
       "      <td>43</td>\n",
       "      <td>176.8</td>\n",
       "      <td>84.1</td>\n",
       "      <td>99.2</td>\n",
       "      <td>26.904906</td>\n",
       "      <td>108</td>\n",
       "      <td>비만</td>\n",
       "      <td>40대</td>\n",
       "    </tr>\n",
       "    <tr>\n",
       "      <th>5967</th>\n",
       "      <td>R904029202</td>\n",
       "      <td>F</td>\n",
       "      <td>39</td>\n",
       "      <td>163.1</td>\n",
       "      <td>59.5</td>\n",
       "      <td>81.2</td>\n",
       "      <td>22.367067</td>\n",
       "      <td>94</td>\n",
       "      <td>정상</td>\n",
       "      <td>30대</td>\n",
       "    </tr>\n",
       "  </tbody>\n",
       "</table>\n",
       "<p>5968 rows × 10 columns</p>\n",
       "</div>"
      ],
      "text/plain": [
       "              ID sex  age  height  weight  waist        BMI  Blood_glucose  \\\n",
       "0     A901020501   M   80   162.4    56.0   82.2  21.233226            103   \n",
       "1     A901021301   M   78   167.7    76.4   98.3  27.166096            127   \n",
       "2     A901021302   F   75   157.7    53.2   80.7  21.391845            134   \n",
       "3     A901022601   F   43   151.0    53.5   79.7  23.463883             99   \n",
       "4     A901023303   F   80   146.1    57.6   93.0  26.984977            111   \n",
       "...          ...  ..  ...     ...     ...    ...        ...            ...   \n",
       "5963  R904028502   F   35   159.8    55.6   70.1  21.773149             90   \n",
       "5964  R904028503   F   66   156.9    63.9   87.3  25.957028             93   \n",
       "5965  R904028902   F   73   145.2    51.8   77.2  24.569512             99   \n",
       "5966  R904029201   M   43   176.8    84.1   99.2  26.904906            108   \n",
       "5967  R904029202   F   39   163.1    59.5   81.2  22.367067             94   \n",
       "\n",
       "     age_bmi age_group  \n",
       "0         정상       70대  \n",
       "1         비만       70대  \n",
       "2         정상       70대  \n",
       "3         정상       40대  \n",
       "4         비만       70대  \n",
       "...      ...       ...  \n",
       "5963      정상       30대  \n",
       "5964      비만       60대  \n",
       "5965      정상       70대  \n",
       "5966      비만       40대  \n",
       "5967      정상       30대  \n",
       "\n",
       "[5968 rows x 10 columns]"
      ]
     },
     "execution_count": 96,
     "metadata": {},
     "output_type": "execute_result"
    }
   ],
   "source": [
    "#male_obs_ratio : 비만을 1, 고도비만을 0로 설정\n",
    "bmi_list = [(data1.BMI>=25)&(data1.BMI<30),\n",
    "           (data1.BMI>=30) ]\n",
    "choice1_list = ['비만','고도비만']\n",
    "data1['age_bmi'] = np.select(bmi_list, choice1_list,default = '정상')\n",
    "data1"
   ]
  },
  {
   "cell_type": "code",
   "execution_count": 97,
   "metadata": {},
   "outputs": [],
   "source": [
    "data1['age_bmi']=np.where(data1['age_bmi']=='비만', 1,0)"
   ]
  },
  {
   "cell_type": "code",
   "execution_count": 98,
   "metadata": {},
   "outputs": [],
   "source": [
    "am=data1[(data1.age_group=='20대')&(data1.sex=='M')]\n",
    "bm=data1[(data1.age_group=='30대')&(data1.sex=='M')]\n",
    "cm=data1[(data1.age_group=='40대')&(data1.sex=='M')]\n",
    "dm=data1[(data1.age_group=='50대')&(data1.sex=='M')]\n",
    "em=data1[(data1.age_group=='60대')&(data1.sex=='M')]\n",
    "fm=data1[(data1.age_group=='70대')&(data1.sex=='M')]"
   ]
  },
  {
   "cell_type": "code",
   "execution_count": 100,
   "metadata": {},
   "outputs": [
    {
     "data": {
      "text/plain": [
       "[0.252, 0.409, 0.416, 0.394, 0.363, 0.293]"
      ]
     },
     "execution_count": 100,
     "metadata": {},
     "output_type": "execute_result"
    }
   ],
   "source": [
    "male_obs_ratio =[am['age_bmi'].mean(),\n",
    "                 bm['age_bmi'].mean(),\n",
    "                 cm['age_bmi'].mean(),\n",
    "                 dm['age_bmi'].mean(),\n",
    "                 em['age_bmi'].mean(),\n",
    "                 fm['age_bmi'].mean()]\n",
    "male_obs_ratio"
   ]
  },
  {
   "cell_type": "code",
   "execution_count": 111,
   "metadata": {},
   "outputs": [],
   "source": [
    "#male_obs2_ratio : 비만을 0, 고도비만을 1로 설정\n",
    "\n",
    "bmi_list = [(data1.BMI>=25)&(data1.BMI<30),\n",
    "           (data1.BMI>=30) ]\n",
    "choice1_list = ['비만','고도비만']\n",
    "data1['age_bmi'] = np.select(bmi_list, choice1_list,default = '정상')"
   ]
  },
  {
   "cell_type": "code",
   "execution_count": 105,
   "metadata": {},
   "outputs": [],
   "source": [
    "data1['age_bmi']=np.where(data1['age_bmi']=='고도비만', 1,0)"
   ]
  },
  {
   "cell_type": "code",
   "execution_count": 106,
   "metadata": {},
   "outputs": [],
   "source": [
    "am=data1[(data1.age_group=='20대')&(data1.sex=='M')]\n",
    "bm=data1[(data1.age_group=='30대')&(data1.sex=='M')]\n",
    "cm=data1[(data1.age_group=='40대')&(data1.sex=='M')]\n",
    "dm=data1[(data1.age_group=='50대')&(data1.sex=='M')]\n",
    "em=data1[(data1.age_group=='60대')&(data1.sex=='M')]\n",
    "fm=data1[(data1.age_group=='70대')&(data1.sex=='M')]"
   ]
  },
  {
   "cell_type": "code",
   "execution_count": 107,
   "metadata": {},
   "outputs": [
    {
     "data": {
      "text/plain": [
       "[0.109, 0.101, 0.075, 0.022, 0.027, 0.033]"
      ]
     },
     "execution_count": 107,
     "metadata": {},
     "output_type": "execute_result"
    }
   ],
   "source": [
    "male_obs2_ratio =[am['age_bmi'].mean(),\n",
    "                 bm['age_bmi'].mean(),\n",
    "                 cm['age_bmi'].mean(),\n",
    "                 dm['age_bmi'].mean(),\n",
    "                 em['age_bmi'].mean(),\n",
    "                 fm['age_bmi'].mean()]\n",
    "male_obs2_ratio"
   ]
  },
  {
   "cell_type": "code",
   "execution_count": 110,
   "metadata": {
    "scrolled": true
   },
   "outputs": [
    {
     "data": {
      "text/plain": [
       "<matplotlib.legend.Legend at 0x174fce04460>"
      ]
     },
     "execution_count": 110,
     "metadata": {},
     "output_type": "execute_result"
    },
    {
     "data": {
      "image/png": "[encoded data removed]",
      "text/plain": [
       "<Figure size 720x432 with 1 Axes>"
      ]
     },
     "metadata": {
      "needs_background": "light"
     },
     "output_type": "display_data"
    }
   ],
   "source": [
    "x =['20대','30대','40대','50대','60대','70대']\n",
    "\n",
    "plt.figure(figsize = (10, 6))\n",
    "p1 = plt.bar(x, male_obs2_ratio, color = 'red')\n",
    "p2 = plt.bar(x, male_obs_ratio, bottom = male_obs2_ratio, color='orange')\n",
    "plt.legend((p1[0], p2[0]), ('고도비만', '비만'))"
   ]
  },
  {
   "cell_type": "markdown",
   "metadata": {},
   "source": [
    "### 여성 그래프"
   ]
  },
  {
   "cell_type": "code",
   "execution_count": 128,
   "metadata": {
    "scrolled": true
   },
   "outputs": [
    {
     "data": {
      "text/html": [
       "<div>\n",
       "<style scoped>\n",
       "    .dataframe tbody tr th:only-of-type {\n",
       "        vertical-align: middle;\n",
       "    }\n",
       "\n",
       "    .dataframe tbody tr th {\n",
       "        vertical-align: top;\n",
       "    }\n",
       "\n",
       "    .dataframe thead th {\n",
       "        text-align: right;\n",
       "    }\n",
       "</style>\n",
       "<table border=\"1\" class=\"dataframe\">\n",
       "  <thead>\n",
       "    <tr style=\"text-align: right;\">\n",
       "      <th></th>\n",
       "      <th>ID</th>\n",
       "      <th>sex</th>\n",
       "      <th>age</th>\n",
       "      <th>height</th>\n",
       "      <th>weight</th>\n",
       "      <th>waist</th>\n",
       "      <th>BMI</th>\n",
       "      <th>Blood_glucose</th>\n",
       "      <th>age_bmi</th>\n",
       "      <th>age_group</th>\n",
       "    </tr>\n",
       "  </thead>\n",
       "  <tbody>\n",
       "    <tr>\n",
       "      <th>0</th>\n",
       "      <td>A901020501</td>\n",
       "      <td>M</td>\n",
       "      <td>80</td>\n",
       "      <td>162.4</td>\n",
       "      <td>56.0</td>\n",
       "      <td>82.2</td>\n",
       "      <td>21.233226</td>\n",
       "      <td>103</td>\n",
       "      <td>정상</td>\n",
       "      <td>70대</td>\n",
       "    </tr>\n",
       "    <tr>\n",
       "      <th>1</th>\n",
       "      <td>A901021301</td>\n",
       "      <td>M</td>\n",
       "      <td>78</td>\n",
       "      <td>167.7</td>\n",
       "      <td>76.4</td>\n",
       "      <td>98.3</td>\n",
       "      <td>27.166096</td>\n",
       "      <td>127</td>\n",
       "      <td>비만</td>\n",
       "      <td>70대</td>\n",
       "    </tr>\n",
       "    <tr>\n",
       "      <th>2</th>\n",
       "      <td>A901021302</td>\n",
       "      <td>F</td>\n",
       "      <td>75</td>\n",
       "      <td>157.7</td>\n",
       "      <td>53.2</td>\n",
       "      <td>80.7</td>\n",
       "      <td>21.391845</td>\n",
       "      <td>134</td>\n",
       "      <td>정상</td>\n",
       "      <td>70대</td>\n",
       "    </tr>\n",
       "    <tr>\n",
       "      <th>3</th>\n",
       "      <td>A901022601</td>\n",
       "      <td>F</td>\n",
       "      <td>43</td>\n",
       "      <td>151.0</td>\n",
       "      <td>53.5</td>\n",
       "      <td>79.7</td>\n",
       "      <td>23.463883</td>\n",
       "      <td>99</td>\n",
       "      <td>정상</td>\n",
       "      <td>40대</td>\n",
       "    </tr>\n",
       "    <tr>\n",
       "      <th>4</th>\n",
       "      <td>A901023303</td>\n",
       "      <td>F</td>\n",
       "      <td>80</td>\n",
       "      <td>146.1</td>\n",
       "      <td>57.6</td>\n",
       "      <td>93.0</td>\n",
       "      <td>26.984977</td>\n",
       "      <td>111</td>\n",
       "      <td>비만</td>\n",
       "      <td>70대</td>\n",
       "    </tr>\n",
       "    <tr>\n",
       "      <th>...</th>\n",
       "      <td>...</td>\n",
       "      <td>...</td>\n",
       "      <td>...</td>\n",
       "      <td>...</td>\n",
       "      <td>...</td>\n",
       "      <td>...</td>\n",
       "      <td>...</td>\n",
       "      <td>...</td>\n",
       "      <td>...</td>\n",
       "      <td>...</td>\n",
       "    </tr>\n",
       "    <tr>\n",
       "      <th>5963</th>\n",
       "      <td>R904028502</td>\n",
       "      <td>F</td>\n",
       "      <td>35</td>\n",
       "      <td>159.8</td>\n",
       "      <td>55.6</td>\n",
       "      <td>70.1</td>\n",
       "      <td>21.773149</td>\n",
       "      <td>90</td>\n",
       "      <td>정상</td>\n",
       "      <td>30대</td>\n",
       "    </tr>\n",
       "    <tr>\n",
       "      <th>5964</th>\n",
       "      <td>R904028503</td>\n",
       "      <td>F</td>\n",
       "      <td>66</td>\n",
       "      <td>156.9</td>\n",
       "      <td>63.9</td>\n",
       "      <td>87.3</td>\n",
       "      <td>25.957028</td>\n",
       "      <td>93</td>\n",
       "      <td>비만</td>\n",
       "      <td>60대</td>\n",
       "    </tr>\n",
       "    <tr>\n",
       "      <th>5965</th>\n",
       "      <td>R904028902</td>\n",
       "      <td>F</td>\n",
       "      <td>73</td>\n",
       "      <td>145.2</td>\n",
       "      <td>51.8</td>\n",
       "      <td>77.2</td>\n",
       "      <td>24.569512</td>\n",
       "      <td>99</td>\n",
       "      <td>정상</td>\n",
       "      <td>70대</td>\n",
       "    </tr>\n",
       "    <tr>\n",
       "      <th>5966</th>\n",
       "      <td>R904029201</td>\n",
       "      <td>M</td>\n",
       "      <td>43</td>\n",
       "      <td>176.8</td>\n",
       "      <td>84.1</td>\n",
       "      <td>99.2</td>\n",
       "      <td>26.904906</td>\n",
       "      <td>108</td>\n",
       "      <td>비만</td>\n",
       "      <td>40대</td>\n",
       "    </tr>\n",
       "    <tr>\n",
       "      <th>5967</th>\n",
       "      <td>R904029202</td>\n",
       "      <td>F</td>\n",
       "      <td>39</td>\n",
       "      <td>163.1</td>\n",
       "      <td>59.5</td>\n",
       "      <td>81.2</td>\n",
       "      <td>22.367067</td>\n",
       "      <td>94</td>\n",
       "      <td>정상</td>\n",
       "      <td>30대</td>\n",
       "    </tr>\n",
       "  </tbody>\n",
       "</table>\n",
       "<p>5968 rows × 10 columns</p>\n",
       "</div>"
      ],
      "text/plain": [
       "              ID sex  age  height  weight  waist        BMI  Blood_glucose  \\\n",
       "0     A901020501   M   80   162.4    56.0   82.2  21.233226            103   \n",
       "1     A901021301   M   78   167.7    76.4   98.3  27.166096            127   \n",
       "2     A901021302   F   75   157.7    53.2   80.7  21.391845            134   \n",
       "3     A901022601   F   43   151.0    53.5   79.7  23.463883             99   \n",
       "4     A901023303   F   80   146.1    57.6   93.0  26.984977            111   \n",
       "...          ...  ..  ...     ...     ...    ...        ...            ...   \n",
       "5963  R904028502   F   35   159.8    55.6   70.1  21.773149             90   \n",
       "5964  R904028503   F   66   156.9    63.9   87.3  25.957028             93   \n",
       "5965  R904028902   F   73   145.2    51.8   77.2  24.569512             99   \n",
       "5966  R904029201   M   43   176.8    84.1   99.2  26.904906            108   \n",
       "5967  R904029202   F   39   163.1    59.5   81.2  22.367067             94   \n",
       "\n",
       "     age_bmi age_group  \n",
       "0         정상       70대  \n",
       "1         비만       70대  \n",
       "2         정상       70대  \n",
       "3         정상       40대  \n",
       "4         비만       70대  \n",
       "...      ...       ...  \n",
       "5963      정상       30대  \n",
       "5964      비만       60대  \n",
       "5965      정상       70대  \n",
       "5966      비만       40대  \n",
       "5967      정상       30대  \n",
       "\n",
       "[5968 rows x 10 columns]"
      ]
     },
     "execution_count": 128,
     "metadata": {},
     "output_type": "execute_result"
    }
   ],
   "source": [
    "#female_obs_ratio : 비만을 1, 고도비만을 2로 설정\n",
    "bmi_list = [(data1.BMI>=25)&(data1.BMI<30),\n",
    "           (data1.BMI>=30) ]\n",
    "choice1_list = ['비만','고도비만']\n",
    "data1['age_bmi'] = np.select(bmi_list, choice1_list,default = '정상')\n",
    "data1"
   ]
  },
  {
   "cell_type": "code",
   "execution_count": 129,
   "metadata": {},
   "outputs": [],
   "source": [
    "data1['age_bmi']=np.where(data1['age_bmi']=='비만', 1,0)"
   ]
  },
  {
   "cell_type": "code",
   "execution_count": 130,
   "metadata": {},
   "outputs": [],
   "source": [
    "af=data1[(data1.age_group=='20대')&(data1.sex=='F')]\n",
    "bf=data1[(data1.age_group=='30대')&(data1.sex=='F')]\n",
    "cf=data1[(data1.age_group=='40대')&(data1.sex=='F')]\n",
    "df=data1[(data1.age_group=='50대')&(data1.sex=='F')]\n",
    "ef=data1[(data1.age_group=='60대')&(data1.sex=='F')]\n",
    "ff=data1[(data1.age_group=='70대')&(data1.sex=='F')]"
   ]
  },
  {
   "cell_type": "code",
   "execution_count": 131,
   "metadata": {},
   "outputs": [
    {
     "data": {
      "text/plain": [
       "[0.123, 0.164, 0.217, 0.231, 0.314, 0.364]"
      ]
     },
     "execution_count": 131,
     "metadata": {},
     "output_type": "execute_result"
    }
   ],
   "source": [
    "female_obs_ratio =[af['age_bmi'].mean(),\n",
    "                 bf['age_bmi'].mean(),\n",
    "                 cf['age_bmi'].mean(),\n",
    "                 df['age_bmi'].mean(),\n",
    "                 ef['age_bmi'].mean(),\n",
    "                 ff['age_bmi'].mean()]\n",
    "female_obs_ratio"
   ]
  },
  {
   "cell_type": "code",
   "execution_count": 132,
   "metadata": {},
   "outputs": [],
   "source": [
    "#female_obs2_ratio : 비만을 1, 고도비만을 2로 설정\n",
    "\n",
    "bmi_list = [(data1.BMI>=25)&(data1.BMI<30),\n",
    "           (data1.BMI>=30) ]\n",
    "choice1_list = ['비만','고도비만']\n",
    "data1['age_bmi'] = np.select(bmi_list, choice1_list,default = '정상')"
   ]
  },
  {
   "cell_type": "code",
   "execution_count": 133,
   "metadata": {},
   "outputs": [],
   "source": [
    "data1['age_bmi']=np.where(data1['age_bmi']=='고도비만', 1,0)\n"
   ]
  },
  {
   "cell_type": "code",
   "execution_count": 135,
   "metadata": {},
   "outputs": [],
   "source": [
    "af=data1[(data1.age_group=='20대')&(data1.sex=='F')]\n",
    "bf=data1[(data1.age_group=='30대')&(data1.sex=='F')]\n",
    "cf=data1[(data1.age_group=='40대')&(data1.sex=='F')]\n",
    "df=data1[(data1.age_group=='50대')&(data1.sex=='F')]\n",
    "ef=data1[(data1.age_group=='60대')&(data1.sex=='F')]\n",
    "ff=data1[(data1.age_group=='70대')&(data1.sex=='F')]"
   ]
  },
  {
   "cell_type": "code",
   "execution_count": 136,
   "metadata": {},
   "outputs": [
    {
     "data": {
      "text/plain": [
       "[0.034, 0.059, 0.044, 0.045, 0.058, 0.058]"
      ]
     },
     "execution_count": 136,
     "metadata": {},
     "output_type": "execute_result"
    }
   ],
   "source": [
    "female_obs2_ratio =[af['age_bmi'].mean(),\n",
    "                 bf['age_bmi'].mean(),\n",
    "                 cf['age_bmi'].mean(),\n",
    "                 df['age_bmi'].mean(),\n",
    "                 ef['age_bmi'].mean(),\n",
    "                 ff['age_bmi'].mean()]\n",
    "female_obs2_ratio"
   ]
  },
  {
   "cell_type": "code",
   "execution_count": 137,
   "metadata": {},
   "outputs": [
    {
     "data": {
      "text/plain": [
       "<matplotlib.legend.Legend at 0x174fc656c10>"
      ]
     },
     "execution_count": 137,
     "metadata": {},
     "output_type": "execute_result"
    },
    {
     "data": {
      "image/png": "[encoded data removed]",
      "text/plain": [
       "<Figure size 720x432 with 1 Axes>"
      ]
     },
     "metadata": {
      "needs_background": "light"
     },
     "output_type": "display_data"
    }
   ],
   "source": [
    "x =['20대','30대','40대','50대','60대','70대']\n",
    "\n",
    "plt.figure(figsize = (10, 6))\n",
    "p1 = plt.bar(x, female_obs2_ratio, color = 'red')\n",
    "p2 = plt.bar(x, female_obs_ratio, bottom = female_obs2_ratio, color='orange')\n",
    "plt.legend((p1[0], p2[0]), ('고도비만', '비만'))"
   ]
  },
  {
   "cell_type": "code",
   "execution_count": 138,
   "metadata": {},
   "outputs": [],
   "source": [
    "# 두 그래프 차이를 살펴보면 남성은 20~30 대에 비만인 사람이 많고, 나이가 들수록 감소하는 추세이다.\n",
    "# 하지만, 20~40대 남성 중 고도비만인 사람은 많다. 반면에 여성은 나이가 많을수록 비만인 사람이 증가하는 것을 알 수 있다."
   ]
  },
  {
   "cell_type": "markdown",
   "metadata": {},
   "source": [
    "## 3차 추가제출 없음. 당일 자정까지 완료함"
   ]
  }
 ],
 "metadata": {
  "anaconda-cloud": {},
  "kernelspec": {
   "display_name": "Python 3",
   "language": "python",
   "name": "python3"
  },
  "language_info": {
   "codemirror_mode": {
    "name": "ipython",
    "version": 3
   },
   "file_extension": ".py",
   "mimetype": "text/x-python",
   "name": "python",
   "nbconvert_exporter": "python",
   "pygments_lexer": "ipython3",
   "version": "3.8.3"
  },
  "nbpresent": {
   "slides": {
    "008a788b-b456-4a0c-8288-6f60967c483e": {
     "id": "008a788b-b456-4a0c-8288-6f60967c483e",
     "prev": "17036b1e-8781-4a7e-a909-a179f499bbc9",
     "regions": {
      "072dbee3-3b47-4389-a934-e0168ebd835e": {
       "attrs": {
        "height": 0.8,
        "width": 0.8,
        "x": 0.1,
        "y": 0.1
       },
       "content": {
        "cell": "378cb846-5485-41d5-9983-fec98a22072a",
        "part": "whole"
       },
       "id": "072dbee3-3b47-4389-a934-e0168ebd835e"
      }
     }
    },
    "01ab9067-898c-46a1-91d9-18ca4fe5a937": {
     "id": "01ab9067-898c-46a1-91d9-18ca4fe5a937",
     "prev": "008a788b-b456-4a0c-8288-6f60967c483e",
     "regions": {
      "42da7aa5-8de9-4631-8abe-4ab35c510140": {
       "attrs": {
        "height": 0.8,
        "width": 0.8,
        "x": 0.1,
        "y": 0.1
       },
       "content": {
        "cell": "7f0f7ef4-e90b-41de-8f73-6165e1b3c1cb",
        "part": "whole"
       },
       "id": "42da7aa5-8de9-4631-8abe-4ab35c510140"
      }
     }
    },
    "02225e5f-f35d-40ef-8f23-5431b19121ab": {
     "id": "02225e5f-f35d-40ef-8f23-5431b19121ab",
     "prev": "430a8f03-8947-469c-a376-2f271448284d",
     "regions": {
      "5bf42e3a-831e-4238-ae19-d2212b26edc0": {
       "attrs": {
        "height": 0.8,
        "width": 0.8,
        "x": 0.1,
        "y": 0.1
       },
       "content": {
        "cell": "c68c4e4e-072e-4620-a325-3ebb19ebe1ce",
        "part": "whole"
       },
       "id": "5bf42e3a-831e-4238-ae19-d2212b26edc0"
      }
     }
    },
    "094d2d0d-c7e5-40bc-bed7-bd80198e8e18": {
     "id": "094d2d0d-c7e5-40bc-bed7-bd80198e8e18",
     "prev": "de950ae7-a7c1-424c-afe2-42f481db181e",
     "regions": {
      "95429590-c6e8-4e00-a061-62d2a454c52f": {
       "attrs": {
        "height": 0.8,
        "width": 0.8,
        "x": 0.1,
        "y": 0.1
       },
       "content": {
        "cell": "aa08360f-e7dd-4647-bbfb-cadd5f19af31",
        "part": "whole"
       },
       "id": "95429590-c6e8-4e00-a061-62d2a454c52f"
      }
     }
    },
    "0aa8229e-9b5c-4f49-bd1e-34de4cd2e82f": {
     "id": "0aa8229e-9b5c-4f49-bd1e-34de4cd2e82f",
     "prev": "11f1d1c4-4848-4b7d-a62d-5427e055bbe3",
     "regions": {
      "9504ff07-d651-4294-ba2e-a89ec52ca708": {
       "attrs": {
        "height": 0.8,
        "width": 0.8,
        "x": 0.1,
        "y": 0.1
       },
       "content": {
        "cell": "e73995f2-c960-4881-b3d3-82c24b06c64c",
        "part": "whole"
       },
       "id": "9504ff07-d651-4294-ba2e-a89ec52ca708"
      }
     }
    },
    "0c50d9ca-fef0-4e5c-8a4e-f18d1c2dbb9e": {
     "id": "0c50d9ca-fef0-4e5c-8a4e-f18d1c2dbb9e",
     "prev": "b248eaf4-2e85-4c32-8f88-7b2ef510ee7c",
     "regions": {
      "8b734704-6740-44f7-8c87-17350c882ed3": {
       "attrs": {
        "height": 0.8,
        "width": 0.8,
        "x": 0.1,
        "y": 0.1
       },
       "content": {
        "cell": "cc42c471-e943-450e-a441-3dc962f1c40d",
        "part": "whole"
       },
       "id": "8b734704-6740-44f7-8c87-17350c882ed3"
      }
     }
    },
    "107cd2c7-0a77-4fd7-922b-56df6615dcca": {
     "id": "107cd2c7-0a77-4fd7-922b-56df6615dcca",
     "prev": "2e7deda1-5486-4b26-8e0a-c91e4c88dbe8",
     "regions": {
      "2ee1a19b-7a00-46b1-b393-485ddb7c2b9b": {
       "attrs": {
        "height": 0.8,
        "width": 0.8,
        "x": 0.1,
        "y": 0.1
       },
       "content": {
        "cell": "d27b23aa-809c-4965-8399-5e67901e2ae4",
        "part": "whole"
       },
       "id": "2ee1a19b-7a00-46b1-b393-485ddb7c2b9b"
      }
     }
    },
    "11f1d1c4-4848-4b7d-a62d-5427e055bbe3": {
     "id": "11f1d1c4-4848-4b7d-a62d-5427e055bbe3",
     "prev": "9461c0f4-d87e-441d-915d-95c69b105ecb",
     "regions": {
      "185d0c6f-1e15-43e1-81f5-1234d5ac3ade": {
       "attrs": {
        "height": 0.8,
        "width": 0.8,
        "x": 0.1,
        "y": 0.1
       },
       "content": {
        "cell": "18703937-12da-40b5-960d-e7a50467e7d0",
        "part": "whole"
       },
       "id": "185d0c6f-1e15-43e1-81f5-1234d5ac3ade"
      }
     }
    },
    "17036b1e-8781-4a7e-a909-a179f499bbc9": {
     "id": "17036b1e-8781-4a7e-a909-a179f499bbc9",
     "prev": "5494c0f6-12d4-4627-9481-26c7858f8f09",
     "regions": {
      "4757fb07-c8f0-49b5-bb28-9a5bb61995ff": {
       "attrs": {
        "height": 0.8,
        "width": 0.8,
        "x": 0.1,
        "y": 0.1
       },
       "content": {
        "cell": "6452b3ab-84b7-4f3c-b74f-ae118e4ed9f2",
        "part": "whole"
       },
       "id": "4757fb07-c8f0-49b5-bb28-9a5bb61995ff"
      }
     }
    },
    "1d02d174-1ae1-4900-bb8e-92083b3f723b": {
     "id": "1d02d174-1ae1-4900-bb8e-92083b3f723b",
     "prev": "466c6928-dc5e-4aeb-abad-2dbb2c797793",
     "regions": {
      "2e5e7aee-fec1-4322-82df-30c9bda076ce": {
       "attrs": {
        "height": 0.8,
        "width": 0.8,
        "x": 0.1,
        "y": 0.1
       },
       "content": {
        "cell": "e89daf11-82d5-4ae2-905b-b73662884e4e",
        "part": "whole"
       },
       "id": "2e5e7aee-fec1-4322-82df-30c9bda076ce"
      }
     }
    },
    "26984d6c-6cdd-4fb6-a80c-b16f643b3802": {
     "id": "26984d6c-6cdd-4fb6-a80c-b16f643b3802",
     "prev": "dfaeb098-c3a9-4980-ae35-70f9b6296a7d",
     "regions": {
      "e3a7924f-b4ad-4919-b97c-a9f0da0027ec": {
       "attrs": {
        "height": 0.8,
        "width": 0.8,
        "x": 0.1,
        "y": 0.1
       },
       "content": {
        "cell": "5683d4a6-3bdb-44ea-8a8e-6203da028f73",
        "part": "whole"
       },
       "id": "e3a7924f-b4ad-4919-b97c-a9f0da0027ec"
      }
     }
    },
    "2e7deda1-5486-4b26-8e0a-c91e4c88dbe8": {
     "id": "2e7deda1-5486-4b26-8e0a-c91e4c88dbe8",
     "prev": "67a167dd-f578-4c00-9a52-77864d640afa",
     "regions": {
      "eb91815b-1df2-4bfb-b2d9-b47359f388f3": {
       "attrs": {
        "height": 0.8,
        "width": 0.8,
        "x": 0.1,
        "y": 0.1
       },
       "content": {
        "cell": "2b936ae8-a540-4353-8b1d-42f7a3bdc763",
        "part": "whole"
       },
       "id": "eb91815b-1df2-4bfb-b2d9-b47359f388f3"
      }
     }
    },
    "35c31f44-06e2-4d75-a9b7-0c168d125d04": {
     "id": "35c31f44-06e2-4d75-a9b7-0c168d125d04",
     "prev": "8b46588c-ad23-4509-b67d-62702ed7afd1",
     "regions": {
      "82c3daba-b8de-42a1-b157-7274603802ae": {
       "attrs": {
        "height": 0.8,
        "width": 0.8,
        "x": 0.1,
        "y": 0.1
       },
       "content": {
        "cell": "35e93b3d-957c-4833-a2a5-b980ecffa5b1",
        "part": "whole"
       },
       "id": "82c3daba-b8de-42a1-b157-7274603802ae"
      }
     }
    },
    "3671ddb9-95b3-4245-b062-03cc90ea386d": {
     "id": "3671ddb9-95b3-4245-b062-03cc90ea386d",
     "prev": "3c3ef584-2982-4a35-afcf-4772c65dc2ac",
     "regions": {
      "faddc9ae-ef33-4d8e-a04e-e9f73ea0310e": {
       "attrs": {
        "height": 0.8,
        "width": 0.8,
        "x": 0.1,
        "y": 0.1
       },
       "content": {
        "cell": "bea98316-c64e-4810-b176-ed4947524f8c",
        "part": "whole"
       },
       "id": "faddc9ae-ef33-4d8e-a04e-e9f73ea0310e"
      }
     }
    },
    "37edb96d-7d51-438f-bd46-fc06e161e205": {
     "id": "37edb96d-7d51-438f-bd46-fc06e161e205",
     "prev": "58980228-1ba8-4ba6-89d3-dd7694662786",
     "regions": {
      "d1ee61d0-5e72-4925-b975-1cc103761137": {
       "attrs": {
        "height": 0.8,
        "width": 0.8,
        "x": 0.1,
        "y": 0.1
       },
       "content": {
        "cell": "b0fc1861-b979-45c5-abd0-3b05200de3b6",
        "part": "whole"
       },
       "id": "d1ee61d0-5e72-4925-b975-1cc103761137"
      }
     }
    },
    "3a9ce2a4-6dd4-463e-8d2d-4aa731447f39": {
     "id": "3a9ce2a4-6dd4-463e-8d2d-4aa731447f39",
     "prev": "0aa8229e-9b5c-4f49-bd1e-34de4cd2e82f",
     "regions": {
      "80f94dd5-569c-4105-9db9-746bc3a0d979": {
       "attrs": {
        "height": 0.8,
        "width": 0.8,
        "x": 0.1,
        "y": 0.1
       },
       "content": {
        "cell": "d3d6e29a-a939-4ab4-95e0-5645d4eb97a4",
        "part": "whole"
       },
       "id": "80f94dd5-569c-4105-9db9-746bc3a0d979"
      }
     }
    },
    "3c3ef584-2982-4a35-afcf-4772c65dc2ac": {
     "id": "3c3ef584-2982-4a35-afcf-4772c65dc2ac",
     "prev": "523566b9-8158-4001-91b2-f7d1d61ec04b",
     "regions": {
      "8182730f-8099-4a3f-815d-c92171a084a7": {
       "attrs": {
        "height": 0.8,
        "width": 0.8,
        "x": 0.1,
        "y": 0.1
       },
       "content": {
        "cell": "2ff35469-eeef-46b0-8b36-f2b6d4580bd4",
        "part": "whole"
       },
       "id": "8182730f-8099-4a3f-815d-c92171a084a7"
      }
     }
    },
    "3e8e0818-4535-4e50-b8da-423cfa6bda87": {
     "id": "3e8e0818-4535-4e50-b8da-423cfa6bda87",
     "prev": "bff971e4-b2b6-497d-8f6b-6401514ee2ca",
     "regions": {
      "859f95ab-5314-4f50-9fc8-7f8a76741c82": {
       "attrs": {
        "height": 0.8,
        "width": 0.8,
        "x": 0.1,
        "y": 0.1
       },
       "content": {
        "cell": "0893c4bd-30b9-4137-bc19-c40d5def546a",
        "part": "whole"
       },
       "id": "859f95ab-5314-4f50-9fc8-7f8a76741c82"
      }
     }
    },
    "430a8f03-8947-469c-a376-2f271448284d": {
     "id": "430a8f03-8947-469c-a376-2f271448284d",
     "prev": "ae384cc7-844b-4a3a-816d-4275e60a5020",
     "regions": {
      "cc346300-13a7-4c57-9eea-13d379d8f845": {
       "attrs": {
        "height": 0.8,
        "width": 0.8,
        "x": 0.1,
        "y": 0.1
       },
       "content": {
        "cell": "3b3885c1-a497-4d41-bb48-76a6d8b43a62",
        "part": "whole"
       },
       "id": "cc346300-13a7-4c57-9eea-13d379d8f845"
      }
     }
    },
    "43517c80-f987-4261-bad2-6844f9f11a43": {
     "id": "43517c80-f987-4261-bad2-6844f9f11a43",
     "prev": "02225e5f-f35d-40ef-8f23-5431b19121ab",
     "regions": {
      "386e1c27-adc8-4888-b278-a730e1a06a1b": {
       "attrs": {
        "height": 0.8,
        "width": 0.8,
        "x": 0.1,
        "y": 0.1
       },
       "content": {
        "cell": "c34d5c93-c65c-4e47-8c92-b38faead2dc2",
        "part": "whole"
       },
       "id": "386e1c27-adc8-4888-b278-a730e1a06a1b"
      }
     }
    },
    "466c6928-dc5e-4aeb-abad-2dbb2c797793": {
     "id": "466c6928-dc5e-4aeb-abad-2dbb2c797793",
     "prev": "01ab9067-898c-46a1-91d9-18ca4fe5a937",
     "regions": {
      "dadc7530-a88a-474c-93b1-a6b13fdeb671": {
       "attrs": {
        "height": 0.8,
        "width": 0.8,
        "x": 0.1,
        "y": 0.1
       },
       "content": {
        "cell": "07dd10e2-514b-4435-afa4-cab572e54611",
        "part": "whole"
       },
       "id": "dadc7530-a88a-474c-93b1-a6b13fdeb671"
      }
     }
    },
    "523566b9-8158-4001-91b2-f7d1d61ec04b": {
     "id": "523566b9-8158-4001-91b2-f7d1d61ec04b",
     "prev": "db6c2c84-14f3-4a3f-972c-ea1e9b45b091",
     "regions": {
      "fa40db73-7f38-419f-b6d1-2d0c9854ad3d": {
       "attrs": {
        "height": 0.8,
        "width": 0.8,
        "x": 0.1,
        "y": 0.1
       },
       "content": {
        "cell": "9c7b5502-7d21-45ef-9801-c8ab89c0cb1b",
        "part": "whole"
       },
       "id": "fa40db73-7f38-419f-b6d1-2d0c9854ad3d"
      }
     }
    },
    "5342b691-167b-4e0f-a28f-aee2f74648b3": {
     "id": "5342b691-167b-4e0f-a28f-aee2f74648b3",
     "prev": "9750cf96-7612-4159-bac1-bf26fe2f60c8",
     "regions": {
      "8bf6c96e-7113-4293-9db9-3999fd5dc82b": {
       "attrs": {
        "height": 0.8,
        "width": 0.8,
        "x": 0.1,
        "y": 0.1
       },
       "content": {
        "cell": "21eb3ee8-f72c-4842-a2b2-98bc6b4b06b2",
        "part": "whole"
       },
       "id": "8bf6c96e-7113-4293-9db9-3999fd5dc82b"
      }
     }
    },
    "5494c0f6-12d4-4627-9481-26c7858f8f09": {
     "id": "5494c0f6-12d4-4627-9481-26c7858f8f09",
     "prev": "3671ddb9-95b3-4245-b062-03cc90ea386d",
     "regions": {
      "8f4923d7-89d2-4193-a542-786412d24121": {
       "attrs": {
        "height": 0.8,
        "width": 0.8,
        "x": 0.1,
        "y": 0.1
       },
       "content": {
        "cell": "47413f67-a333-4cd6-8a6e-6b268aa4f4ff",
        "part": "whole"
       },
       "id": "8f4923d7-89d2-4193-a542-786412d24121"
      }
     }
    },
    "57d8f821-fdaf-412d-bc5c-fbaf939e7850": {
     "id": "57d8f821-fdaf-412d-bc5c-fbaf939e7850",
     "prev": "5342b691-167b-4e0f-a28f-aee2f74648b3",
     "regions": {
      "595c1191-37e3-41c2-8807-172c5221490d": {
       "attrs": {
        "height": 0.8,
        "width": 0.8,
        "x": 0.1,
        "y": 0.1
       },
       "content": {
        "cell": "885a45ac-f069-4988-b245-fcd79646e17f",
        "part": "whole"
       },
       "id": "595c1191-37e3-41c2-8807-172c5221490d"
      }
     }
    },
    "58980228-1ba8-4ba6-89d3-dd7694662786": {
     "id": "58980228-1ba8-4ba6-89d3-dd7694662786",
     "prev": "ee0491f8-b146-4b0e-99d3-ceb5eb2f3a1d",
     "regions": {
      "c5224b5d-aad4-4862-a3d1-7e6996d3d33d": {
       "attrs": {
        "height": 0.8,
        "width": 0.8,
        "x": 0.1,
        "y": 0.1
       },
       "content": {
        "cell": "8972370e-3b2e-4fe5-b7d5-e6f410f4df68",
        "part": "whole"
       },
       "id": "c5224b5d-aad4-4862-a3d1-7e6996d3d33d"
      }
     }
    },
    "58fe1e15-bd81-4c14-8c10-08606b7f56ae": {
     "id": "58fe1e15-bd81-4c14-8c10-08606b7f56ae",
     "prev": "8511eb84-692c-4a63-b3c3-7e1f86c137bd",
     "regions": {
      "c29ef705-df31-4240-987b-1697100d6ae4": {
       "attrs": {
        "height": 0.8,
        "width": 0.8,
        "x": 0.1,
        "y": 0.1
       },
       "content": {
        "cell": "b5e81c61-d695-4fc4-b784-45ed41026d4a",
        "part": "whole"
       },
       "id": "c29ef705-df31-4240-987b-1697100d6ae4"
      }
     }
    },
    "6156681f-3fe2-4d80-aab1-f7c28e200404": {
     "id": "6156681f-3fe2-4d80-aab1-f7c28e200404",
     "prev": "c17f7347-3cbe-420c-a499-3131e4eaac59",
     "regions": {
      "28d9588e-1085-432e-9b58-6e28c4d7c74f": {
       "attrs": {
        "height": 0.8,
        "width": 0.8,
        "x": 0.1,
        "y": 0.1
       },
       "content": {
        "cell": "3dbf6370-0a3a-44be-ade7-2a32586e4508",
        "part": "whole"
       },
       "id": "28d9588e-1085-432e-9b58-6e28c4d7c74f"
      }
     }
    },
    "67a167dd-f578-4c00-9a52-77864d640afa": {
     "id": "67a167dd-f578-4c00-9a52-77864d640afa",
     "prev": "b7ce05ff-6ab9-49ba-9235-05d97e6d8b19",
     "regions": {
      "b3a441dc-47d2-402e-b9fe-68a0472d5670": {
       "attrs": {
        "height": 0.8,
        "width": 0.8,
        "x": 0.1,
        "y": 0.1
       },
       "content": {
        "cell": "a67a0f57-b7bb-4ad2-89a8-f53f514d52d5",
        "part": "whole"
       },
       "id": "b3a441dc-47d2-402e-b9fe-68a0472d5670"
      }
     }
    },
    "76cecc6a-4ff3-4f36-9fcd-dc72da22db7a": {
     "id": "76cecc6a-4ff3-4f36-9fcd-dc72da22db7a",
     "prev": "107cd2c7-0a77-4fd7-922b-56df6615dcca",
     "regions": {
      "3d9e9ca1-88f1-4d57-b1ce-1cd3377e1f1e": {
       "attrs": {
        "height": 0.8,
        "width": 0.8,
        "x": 0.1,
        "y": 0.1
       },
       "content": {
        "cell": "c3f25ce7-4ac2-4e7e-ae0d-0d354b7aa34a",
        "part": "whole"
       },
       "id": "3d9e9ca1-88f1-4d57-b1ce-1cd3377e1f1e"
      }
     }
    },
    "7a3d7039-5de1-4759-9129-49437077ec67": {
     "id": "7a3d7039-5de1-4759-9129-49437077ec67",
     "prev": "76cecc6a-4ff3-4f36-9fcd-dc72da22db7a",
     "regions": {
      "f8ee8b52-b882-4e27-b1e2-4db18e65b256": {
       "attrs": {
        "height": 0.8,
        "width": 0.8,
        "x": 0.1,
        "y": 0.1
       },
       "content": {
        "cell": "4a0d9ca6-f3a4-453d-b52e-ad5d17ca5883",
        "part": "whole"
       },
       "id": "f8ee8b52-b882-4e27-b1e2-4db18e65b256"
      }
     }
    },
    "7c9758fa-71de-4938-8eed-be5dabd2d61c": {
     "id": "7c9758fa-71de-4938-8eed-be5dabd2d61c",
     "prev": "3e8e0818-4535-4e50-b8da-423cfa6bda87",
     "regions": {
      "94b0287c-da12-4bf9-ab24-b6041cab0a0f": {
       "attrs": {
        "height": 0.8,
        "width": 0.8,
        "x": 0.1,
        "y": 0.1
       },
       "content": {
        "cell": "5e5e8200-af66-4ffa-85d8-0ca019d398d8",
        "part": "whole"
       },
       "id": "94b0287c-da12-4bf9-ab24-b6041cab0a0f"
      }
     }
    },
    "8511eb84-692c-4a63-b3c3-7e1f86c137bd": {
     "id": "8511eb84-692c-4a63-b3c3-7e1f86c137bd",
     "prev": "3a9ce2a4-6dd4-463e-8d2d-4aa731447f39",
     "regions": {
      "d512994f-a930-4cb5-9feb-0c9e9b3eca21": {
       "attrs": {
        "height": 0.8,
        "width": 0.8,
        "x": 0.1,
        "y": 0.1
       },
       "content": {
        "cell": "93a5d1f3-e3b5-4840-95c2-503725844dc3",
        "part": "whole"
       },
       "id": "d512994f-a930-4cb5-9feb-0c9e9b3eca21"
      }
     }
    },
    "863c2f5d-5ed6-4abd-9212-ac3aa08b7c2d": {
     "id": "863c2f5d-5ed6-4abd-9212-ac3aa08b7c2d",
     "prev": "fa1e9266-57b6-41c8-9ad2-05119a8154fa",
     "regions": {
      "2efc3ace-624d-49f2-8602-18d3ce4fd9d1": {
       "attrs": {
        "height": 0.8,
        "width": 0.8,
        "x": 0.1,
        "y": 0.1
       },
       "content": {
        "cell": "1c22acff-5c31-4b42-a557-2be121021d1e",
        "part": "whole"
       },
       "id": "2efc3ace-624d-49f2-8602-18d3ce4fd9d1"
      }
     }
    },
    "8a00b47c-c1da-479f-b5e8-16224b1bc1ad": {
     "id": "8a00b47c-c1da-479f-b5e8-16224b1bc1ad",
     "prev": "c372f9ff-ce00-4768-8a0a-cb894e0fa65d",
     "regions": {
      "88f7e3bd-c1f1-4783-aa29-4b3871ed83c9": {
       "attrs": {
        "height": 0.8,
        "width": 0.8,
        "x": 0.1,
        "y": 0.1
       },
       "content": {
        "cell": "4bcabd6c-13d5-4a8e-a4cf-46d12550458b",
        "part": "whole"
       },
       "id": "88f7e3bd-c1f1-4783-aa29-4b3871ed83c9"
      }
     }
    },
    "8b46588c-ad23-4509-b67d-62702ed7afd1": {
     "id": "8b46588c-ad23-4509-b67d-62702ed7afd1",
     "prev": "37edb96d-7d51-438f-bd46-fc06e161e205",
     "regions": {
      "6e4458c9-28eb-4025-8ac9-d7fc0ffb8fee": {
       "attrs": {
        "height": 0.8,
        "width": 0.8,
        "x": 0.1,
        "y": 0.1
       },
       "content": {
        "cell": "575abe68-ac1a-489a-8b14-aef861c188e3",
        "part": "whole"
       },
       "id": "6e4458c9-28eb-4025-8ac9-d7fc0ffb8fee"
      }
     }
    },
    "92033db1-1754-4f97-a65f-d7fcd5e5ef5f": {
     "id": "92033db1-1754-4f97-a65f-d7fcd5e5ef5f",
     "prev": "7c9758fa-71de-4938-8eed-be5dabd2d61c",
     "regions": {
      "73b1869c-52b3-4f19-8918-f9d27d1ce96a": {
       "attrs": {
        "height": 0.8,
        "width": 0.8,
        "x": 0.1,
        "y": 0.1
       },
       "content": {
        "cell": "31f1dd1c-7279-4590-a581-4789248b9d95",
        "part": "whole"
       },
       "id": "73b1869c-52b3-4f19-8918-f9d27d1ce96a"
      }
     }
    },
    "9461c0f4-d87e-441d-915d-95c69b105ecb": {
     "id": "9461c0f4-d87e-441d-915d-95c69b105ecb",
     "prev": "92033db1-1754-4f97-a65f-d7fcd5e5ef5f",
     "regions": {
      "4dd7f598-05d6-4e49-883d-978967a66cc5": {
       "attrs": {
        "height": 0.8,
        "width": 0.8,
        "x": 0.1,
        "y": 0.1
       },
       "content": {
        "cell": "674e452c-7ba7-4c07-be5e-1e73553f8849",
        "part": "whole"
       },
       "id": "4dd7f598-05d6-4e49-883d-978967a66cc5"
      }
     }
    },
    "94c7954c-21de-44d2-81f0-746748834167": {
     "id": "94c7954c-21de-44d2-81f0-746748834167",
     "prev": "d806c3fb-ea3d-4b90-be5b-e78113b3e887",
     "regions": {
      "a853df0e-2a78-45f8-8841-72a437ba5d68": {
       "attrs": {
        "height": 0.8,
        "width": 0.8,
        "x": 0.1,
        "y": 0.1
       },
       "content": {
        "cell": "f581b3c5-979f-4ad2-95b7-e89dc86afee3",
        "part": "whole"
       },
       "id": "a853df0e-2a78-45f8-8841-72a437ba5d68"
      }
     }
    },
    "94c969b1-892d-4f1a-a832-8154573c893c": {
     "id": "94c969b1-892d-4f1a-a832-8154573c893c",
     "prev": "94c7954c-21de-44d2-81f0-746748834167",
     "regions": {
      "c1ade563-9e9b-490c-970b-37faba235b7e": {
       "attrs": {
        "height": 0.8,
        "width": 0.8,
        "x": 0.1,
        "y": 0.1
       },
       "content": {
        "cell": "e965b847-7d60-48e2-b72f-972816a1e6fc",
        "part": "whole"
       },
       "id": "c1ade563-9e9b-490c-970b-37faba235b7e"
      }
     }
    },
    "9750cf96-7612-4159-bac1-bf26fe2f60c8": {
     "id": "9750cf96-7612-4159-bac1-bf26fe2f60c8",
     "prev": "94c969b1-892d-4f1a-a832-8154573c893c",
     "regions": {
      "116d14ce-3f3d-44a1-aa86-61b1ac19354f": {
       "attrs": {
        "height": 0.8,
        "width": 0.8,
        "x": 0.1,
        "y": 0.1
       },
       "content": {
        "cell": "ddd82eaf-9b54-48bf-ac57-aa797a3a970a",
        "part": "whole"
       },
       "id": "116d14ce-3f3d-44a1-aa86-61b1ac19354f"
      }
     }
    },
    "a40bc8a7-660a-4478-8071-b97c5127c4b5": {
     "id": "a40bc8a7-660a-4478-8071-b97c5127c4b5",
     "prev": "863c2f5d-5ed6-4abd-9212-ac3aa08b7c2d",
     "regions": {
      "929e10a6-a0b0-4d31-99b1-311fcfc150a1": {
       "attrs": {
        "height": 0.8,
        "width": 0.8,
        "x": 0.1,
        "y": 0.1
       },
       "content": {
        "cell": "d7d32de7-bcdd-486d-b6c9-d5caad1164e3",
        "part": "whole"
       },
       "id": "929e10a6-a0b0-4d31-99b1-311fcfc150a1"
      }
     }
    },
    "ae384cc7-844b-4a3a-816d-4275e60a5020": {
     "id": "ae384cc7-844b-4a3a-816d-4275e60a5020",
     "prev": "26984d6c-6cdd-4fb6-a80c-b16f643b3802",
     "regions": {
      "b7a26fcd-98a6-4c24-893f-14ab3d6257bb": {
       "attrs": {
        "height": 0.8,
        "width": 0.8,
        "x": 0.1,
        "y": 0.1
       },
       "content": {
        "cell": "ddc73611-ffe2-434e-b3bd-cd417ef42b68",
        "part": "whole"
       },
       "id": "b7a26fcd-98a6-4c24-893f-14ab3d6257bb"
      }
     }
    },
    "b248eaf4-2e85-4c32-8f88-7b2ef510ee7c": {
     "id": "b248eaf4-2e85-4c32-8f88-7b2ef510ee7c",
     "prev": null,
     "regions": {
      "729796eb-5023-4fc8-b32f-83045cda3258": {
       "attrs": {
        "height": 0.8,
        "width": 0.8,
        "x": 0.1,
        "y": 0.1
       },
       "content": {
        "cell": "dad3a857-8628-4c15-a8ad-312792cb88ac",
        "part": "whole"
       },
       "id": "729796eb-5023-4fc8-b32f-83045cda3258"
      }
     }
    },
    "b7ce05ff-6ab9-49ba-9235-05d97e6d8b19": {
     "id": "b7ce05ff-6ab9-49ba-9235-05d97e6d8b19",
     "prev": "fd5b9f11-7cb4-4280-8955-7da1f2a0eafd",
     "regions": {
      "44f843a2-f9a7-4c01-be36-f2b39de5a725": {
       "attrs": {
        "height": 0.8,
        "width": 0.8,
        "x": 0.1,
        "y": 0.1
       },
       "content": {
        "cell": "852d31b9-64ee-4906-8865-dc217141338a",
        "part": "whole"
       },
       "id": "44f843a2-f9a7-4c01-be36-f2b39de5a725"
      }
     }
    },
    "bff971e4-b2b6-497d-8f6b-6401514ee2ca": {
     "id": "bff971e4-b2b6-497d-8f6b-6401514ee2ca",
     "prev": "7a3d7039-5de1-4759-9129-49437077ec67",
     "regions": {
      "07dd02d3-5ac3-4d96-9291-c3870d15f11e": {
       "attrs": {
        "height": 0.8,
        "width": 0.8,
        "x": 0.1,
        "y": 0.1
       },
       "content": {
        "cell": "31a44e48-3de3-4fa2-9c03-2063209cce11",
        "part": "whole"
       },
       "id": "07dd02d3-5ac3-4d96-9291-c3870d15f11e"
      }
     }
    },
    "c17f7347-3cbe-420c-a499-3131e4eaac59": {
     "id": "c17f7347-3cbe-420c-a499-3131e4eaac59",
     "prev": "57d8f821-fdaf-412d-bc5c-fbaf939e7850",
     "regions": {
      "7d4b25fd-aa9a-4d62-8181-05324639ff0d": {
       "attrs": {
        "height": 0.8,
        "width": 0.8,
        "x": 0.1,
        "y": 0.1
       },
       "content": {
        "cell": "35043c9c-279e-47cd-b82f-9dae8c5f9fec",
        "part": "whole"
       },
       "id": "7d4b25fd-aa9a-4d62-8181-05324639ff0d"
      }
     }
    },
    "c372f9ff-ce00-4768-8a0a-cb894e0fa65d": {
     "id": "c372f9ff-ce00-4768-8a0a-cb894e0fa65d",
     "prev": "35c31f44-06e2-4d75-a9b7-0c168d125d04",
     "regions": {
      "c3931b7b-0a33-46e0-a5b6-6b33b0075fd5": {
       "attrs": {
        "height": 0.8,
        "width": 0.8,
        "x": 0.1,
        "y": 0.1
       },
       "content": {
        "cell": "6dccff7c-9bb1-447a-9692-656ca1687626",
        "part": "whole"
       },
       "id": "c3931b7b-0a33-46e0-a5b6-6b33b0075fd5"
      }
     }
    },
    "d806c3fb-ea3d-4b90-be5b-e78113b3e887": {
     "id": "d806c3fb-ea3d-4b90-be5b-e78113b3e887",
     "prev": "094d2d0d-c7e5-40bc-bed7-bd80198e8e18",
     "regions": {
      "8ec4249f-2827-4eb0-bb27-152d4dea703f": {
       "attrs": {
        "height": 0.8,
        "width": 0.8,
        "x": 0.1,
        "y": 0.1
       },
       "content": {
        "cell": "25b7da30-19eb-4326-ba15-d969f9c1ad12",
        "part": "whole"
       },
       "id": "8ec4249f-2827-4eb0-bb27-152d4dea703f"
      }
     }
    },
    "db6c2c84-14f3-4a3f-972c-ea1e9b45b091": {
     "id": "db6c2c84-14f3-4a3f-972c-ea1e9b45b091",
     "prev": "ff25a0ae-0958-4983-b72b-6d655554983e",
     "regions": {
      "33e20b90-5ef8-482a-af30-6ebe50fa5247": {
       "attrs": {
        "height": 0.8,
        "width": 0.8,
        "x": 0.1,
        "y": 0.1
       },
       "content": {
        "cell": "b2282939-76b5-4358-8caf-bda59cd4dfc8",
        "part": "whole"
       },
       "id": "33e20b90-5ef8-482a-af30-6ebe50fa5247"
      }
     }
    },
    "de950ae7-a7c1-424c-afe2-42f481db181e": {
     "id": "de950ae7-a7c1-424c-afe2-42f481db181e",
     "prev": "58fe1e15-bd81-4c14-8c10-08606b7f56ae",
     "regions": {
      "157e2366-91bc-4374-b005-296b72401f19": {
       "attrs": {
        "height": 0.8,
        "width": 0.8,
        "x": 0.1,
        "y": 0.1
       },
       "content": {
        "cell": "6eff5466-e51a-40e9-b5d6-0e511d329721",
        "part": "whole"
       },
       "id": "157e2366-91bc-4374-b005-296b72401f19"
      }
     }
    },
    "dfaeb098-c3a9-4980-ae35-70f9b6296a7d": {
     "id": "dfaeb098-c3a9-4980-ae35-70f9b6296a7d",
     "prev": "a40bc8a7-660a-4478-8071-b97c5127c4b5",
     "regions": {
      "ff8a9509-83fc-43b8-b85d-05642f796426": {
       "attrs": {
        "height": 0.8,
        "width": 0.8,
        "x": 0.1,
        "y": 0.1
       },
       "content": {
        "cell": "139cbba6-15fb-4eb9-b2d8-a25bdbf3a874",
        "part": "whole"
       },
       "id": "ff8a9509-83fc-43b8-b85d-05642f796426"
      }
     }
    },
    "ee0491f8-b146-4b0e-99d3-ceb5eb2f3a1d": {
     "id": "ee0491f8-b146-4b0e-99d3-ceb5eb2f3a1d",
     "prev": "0c50d9ca-fef0-4e5c-8a4e-f18d1c2dbb9e",
     "regions": {
      "7e1317fc-37fb-47f2-9822-1b464ab3a0f1": {
       "attrs": {
        "height": 0.8,
        "width": 0.8,
        "x": 0.1,
        "y": 0.1
       },
       "content": {
        "cell": "93b648ee-643e-46b2-a289-f6b562875bc4",
        "part": "whole"
       },
       "id": "7e1317fc-37fb-47f2-9822-1b464ab3a0f1"
      }
     }
    },
    "fa1e9266-57b6-41c8-9ad2-05119a8154fa": {
     "id": "fa1e9266-57b6-41c8-9ad2-05119a8154fa",
     "prev": "1d02d174-1ae1-4900-bb8e-92083b3f723b",
     "regions": {
      "642cb521-a4bf-4bdf-94e4-c4e1db951bed": {
       "attrs": {
        "height": 0.8,
        "width": 0.8,
        "x": 0.1,
        "y": 0.1
       },
       "content": {
        "cell": "7bcdf43b-5617-4e59-b3d7-0c3706c527f1",
        "part": "whole"
       },
       "id": "642cb521-a4bf-4bdf-94e4-c4e1db951bed"
      }
     }
    },
    "fd5b9f11-7cb4-4280-8955-7da1f2a0eafd": {
     "id": "fd5b9f11-7cb4-4280-8955-7da1f2a0eafd",
     "prev": "8a00b47c-c1da-479f-b5e8-16224b1bc1ad",
     "regions": {
      "bafa4b52-8d5e-4af8-9b56-5cfb28caec46": {
       "attrs": {
        "height": 0.8,
        "width": 0.8,
        "x": 0.1,
        "y": 0.1
       },
       "content": {
        "cell": "d110e3f4-e865-4198-8668-17bd4f1e9540",
        "part": "whole"
       },
       "id": "bafa4b52-8d5e-4af8-9b56-5cfb28caec46"
      }
     }
    },
    "ff25a0ae-0958-4983-b72b-6d655554983e": {
     "id": "ff25a0ae-0958-4983-b72b-6d655554983e",
     "prev": "6156681f-3fe2-4d80-aab1-f7c28e200404",
     "regions": {
      "4536da0e-7194-48f1-a4eb-13fb6d74ecf5": {
       "attrs": {
        "height": 0.8,
        "width": 0.8,
        "x": 0.1,
        "y": 0.1
       },
       "content": {
        "cell": "72beaf23-bcc8-4311-b327-b67a3b07436a",
        "part": "whole"
       },
       "id": "4536da0e-7194-48f1-a4eb-13fb6d74ecf5"
      }
     }
    }
   },
   "themes": {}
  }
 },
 "nbformat": 4,
 "nbformat_minor": 1
}
